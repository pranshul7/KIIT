{
 "cells": [
  {
   "cell_type": "code",
   "execution_count": 2,
   "metadata": {},
   "outputs": [],
   "source": [
    "import os\n",
    "import numpy as np\n",
    "import cv2\n",
    "from PIL import Image\n",
    "from sklearn.model_selection import train_test_split\n",
    "from keras.models import Sequential\n",
    "from keras.layers import Conv2D, MaxPooling2D, Flatten, Dense"
   ]
  },
  {
   "cell_type": "code",
   "execution_count": 3,
   "metadata": {},
   "outputs": [],
   "source": [
    "# Define the path to the train and test folders\n",
    "train_path = 'C:/A/code/VSC/python/test/cropped_DevanagariHandwrittenCharacterDataset/Train/'\n",
    "test_path = 'C:/A/code/VSC/python/test/cropped_DevanagariHandwrittenCharacterDataset/Test/'\n",
    "\n",
    "# Define a function to load and preprocess the images\n",
    "def load_images(path):\n",
    "    # Create empty lists to store the images and labels\n",
    "    images = []\n",
    "    labels = []\n",
    "\n",
    "    # Loop through each folder (which represents a class) in the path\n",
    "    for folder in os.listdir(path):\n",
    "        # Get the path to the folder\n",
    "        folder_path = os.path.join(path, folder)\n",
    "        # Loop through each image in the folder\n",
    "        for file in os.listdir(folder_path):\n",
    "            # Get the path to the image file\n",
    "            img_path = os.path.join(folder_path, file)\n",
    "            # Load the image using OpenCV\n",
    "            img = cv2.imread(img_path)\n",
    "            # Convert the image to grayscale\n",
    "            img = cv2.cvtColor(img, cv2.COLOR_BGR2GRAY)\n",
    "            # Normalize the pixel values of the images\n",
    "            img = img.astype('float32') / 255.0\n",
    "            # Append the image to the images list\n",
    "            images.append(img)\n",
    "            # Append the label to the labels list\n",
    "            labels.append(folder)\n",
    "\n",
    "    # Convert the images and labels lists to NumPy arrays\n",
    "    images = np.array(images)\n",
    "    labels = np.array(labels)\n",
    "    \n",
    "    # Return the images and labels arrays\n",
    "    return images, labels\n",
    "\n",
    "# Load the train images and labels\n",
    "train_images, train_labels = load_images(train_path)\n",
    "\n",
    "# Load the test images and labels\n",
    "test_images, test_labels = load_images(test_path)"
   ]
  },
  {
   "cell_type": "code",
   "execution_count": 4,
   "metadata": {},
   "outputs": [
    {
     "name": "stdout",
     "output_type": "stream",
     "text": [
      "(78200, 28, 28)\n"
     ]
    }
   ],
   "source": [
    "print(train_images.shape)"
   ]
  },
  {
   "cell_type": "code",
   "execution_count": 5,
   "metadata": {},
   "outputs": [
    {
     "name": "stdout",
     "output_type": "stream",
     "text": [
      "(78200,)\n"
     ]
    }
   ],
   "source": [
    "print(train_labels.shape)"
   ]
  },
  {
   "cell_type": "code",
   "execution_count": 6,
   "metadata": {},
   "outputs": [
    {
     "name": "stdout",
     "output_type": "stream",
     "text": [
      "character_10_yna\n"
     ]
    }
   ],
   "source": [
    "print(train_labels[0])"
   ]
  },
  {
   "cell_type": "code",
   "execution_count": 7,
   "metadata": {},
   "outputs": [
    {
     "name": "stdout",
     "output_type": "stream",
     "text": [
      "character_10_yna\n"
     ]
    }
   ],
   "source": [
    "print(test_labels[0])"
   ]
  },
  {
   "cell_type": "code",
   "execution_count": 8,
   "metadata": {},
   "outputs": [],
   "source": [
    "import tensorflow as tf\n",
    "from tensorflow.keras.models import Sequential\n",
    "from tensorflow.keras.layers import Conv2D, MaxPooling2D, Flatten, Dense\n",
    "from tensorflow.keras.utils import to_categorical"
   ]
  },
  {
   "cell_type": "code",
   "execution_count": 9,
   "metadata": {},
   "outputs": [],
   "source": [
    "from sklearn.preprocessing import LabelEncoder\n",
    "from tensorflow.keras.utils import to_categorical\n",
    "\n",
    "# Convert the string labels to integer labels\n",
    "label_encoder = LabelEncoder()\n",
    "train_labels_int = label_encoder.fit_transform(train_labels)"
   ]
  },
  {
   "cell_type": "code",
   "execution_count": 10,
   "metadata": {},
   "outputs": [
    {
     "name": "stdout",
     "output_type": "stream",
     "text": [
      "0 occurs 1700 times\n",
      "1 occurs 1700 times\n",
      "2 occurs 1700 times\n",
      "3 occurs 1700 times\n",
      "4 occurs 1700 times\n",
      "5 occurs 1700 times\n",
      "6 occurs 1700 times\n",
      "7 occurs 1700 times\n",
      "8 occurs 1700 times\n",
      "9 occurs 1700 times\n",
      "10 occurs 1700 times\n",
      "11 occurs 1700 times\n",
      "12 occurs 1700 times\n",
      "13 occurs 1700 times\n",
      "14 occurs 1700 times\n",
      "15 occurs 1700 times\n",
      "16 occurs 1700 times\n",
      "17 occurs 1700 times\n",
      "18 occurs 1700 times\n",
      "19 occurs 1700 times\n",
      "20 occurs 1700 times\n",
      "21 occurs 1700 times\n",
      "22 occurs 1700 times\n",
      "23 occurs 1700 times\n",
      "24 occurs 1700 times\n",
      "25 occurs 1700 times\n",
      "26 occurs 1700 times\n",
      "27 occurs 1700 times\n",
      "28 occurs 1700 times\n",
      "29 occurs 1700 times\n",
      "30 occurs 1700 times\n",
      "31 occurs 1700 times\n",
      "32 occurs 1700 times\n",
      "33 occurs 1700 times\n",
      "34 occurs 1700 times\n",
      "35 occurs 1700 times\n",
      "36 occurs 1700 times\n",
      "37 occurs 1700 times\n",
      "38 occurs 1700 times\n",
      "39 occurs 1700 times\n",
      "40 occurs 1700 times\n",
      "41 occurs 1700 times\n",
      "42 occurs 1700 times\n",
      "43 occurs 1700 times\n",
      "44 occurs 1700 times\n",
      "45 occurs 1700 times\n"
     ]
    }
   ],
   "source": [
    "unique_values, counts = np.unique(train_labels_int, return_counts=True)\n",
    "for value, count in zip(unique_values, counts):\n",
    "    print(f\"{value} occurs {count} times\")"
   ]
  },
  {
   "cell_type": "code",
   "execution_count": 11,
   "metadata": {},
   "outputs": [],
   "source": [
    "# Convert the integer labels to one-hot encoding\n",
    "train_labels_onehot = to_categorical(train_labels_int, num_classes=46)\n",
    "\n",
    "# Split the data into the five quadrants\n",
    "x_train_tl = train_images[:,:14,:14].reshape(-1, 14, 14, 1)\n",
    "x_train_tr = train_images[:,:14,14:].reshape(-1, 14, 14, 1)\n",
    "x_train_bl = train_images[:,14:,:14].reshape(-1, 14, 14, 1)\n",
    "x_train_br = train_images[:,14:,14:].reshape(-1, 14, 14, 1)\n",
    "x_train_c = train_images[:,7:21,7:21].reshape(-1, 14, 14, 1)"
   ]
  },
  {
   "cell_type": "code",
   "execution_count": 12,
   "metadata": {},
   "outputs": [
    {
     "name": "stdout",
     "output_type": "stream",
     "text": [
      "(78200,)\n",
      "(78200, 46)\n",
      "[1. 0. 0. 0. 0. 0. 0. 0. 0. 0. 0. 0. 0. 0. 0. 0. 0. 0. 0. 0. 0. 0. 0. 0.\n",
      " 0. 0. 0. 0. 0. 0. 0. 0. 0. 0. 0. 0. 0. 0. 0. 0. 0. 0. 0. 0. 0. 0.]\n"
     ]
    },
    {
     "data": {
      "text/plain": [
       "numpy.ndarray"
      ]
     },
     "execution_count": 12,
     "metadata": {},
     "output_type": "execute_result"
    }
   ],
   "source": [
    "print(train_labels_int.shape)\n",
    "print(train_labels_onehot.shape)\n",
    "print(train_labels_onehot[0])\n",
    "type(train_labels_onehot)"
   ]
  },
  {
   "cell_type": "code",
   "execution_count": 13,
   "metadata": {},
   "outputs": [
    {
     "name": "stdout",
     "output_type": "stream",
     "text": [
      "(78200, 28, 28)\n",
      "(78200, 14, 14, 1)\n"
     ]
    }
   ],
   "source": [
    "print(train_images.shape)\n",
    "print(x_train_tl.shape)"
   ]
  },
  {
   "cell_type": "code",
   "execution_count": 15,
   "metadata": {},
   "outputs": [
    {
     "name": "stdout",
     "output_type": "stream",
     "text": [
      "Model: \"sequential_1\"\n",
      "_________________________________________________________________\n",
      " Layer (type)                Output Shape              Param #   \n",
      "=================================================================\n",
      " conv2d_2 (Conv2D)           (None, 12, 12, 16)        160       \n",
      "                                                                 \n",
      " max_pooling2d_2 (MaxPooling  (None, 6, 6, 16)         0         \n",
      " 2D)                                                             \n",
      "                                                                 \n",
      " conv2d_3 (Conv2D)           (None, 4, 4, 32)          4640      \n",
      "                                                                 \n",
      " max_pooling2d_3 (MaxPooling  (None, 2, 2, 32)         0         \n",
      " 2D)                                                             \n",
      "                                                                 \n",
      " flatten_1 (Flatten)         (None, 128)               0         \n",
      "                                                                 \n",
      " dense_2 (Dense)             (None, 512)               66048     \n",
      "                                                                 \n",
      " dense_3 (Dense)             (None, 46)                23598     \n",
      "                                                                 \n",
      "=================================================================\n",
      "Total params: 94,446\n",
      "Trainable params: 94,446\n",
      "Non-trainable params: 0\n",
      "_________________________________________________________________\n",
      "Epoch 1/25\n",
      "2444/2444 [==============================] - 9s 4ms/step - loss: 3.0049 - accuracy: 0.1865\n",
      "Epoch 2/25\n",
      "2444/2444 [==============================] - 10s 4ms/step - loss: 2.1444 - accuracy: 0.3710\n",
      "Epoch 3/25\n",
      "2444/2444 [==============================] - 10s 4ms/step - loss: 1.9154 - accuracy: 0.4293\n",
      "Epoch 4/25\n",
      "2444/2444 [==============================] - 11s 4ms/step - loss: 1.7638 - accuracy: 0.4674\n",
      "Epoch 5/25\n",
      "2444/2444 [==============================] - 10s 4ms/step - loss: 1.6482 - accuracy: 0.5013\n",
      "Epoch 6/25\n",
      "2444/2444 [==============================] - 10s 4ms/step - loss: 1.5596 - accuracy: 0.5235\n",
      "Epoch 7/25\n",
      "2444/2444 [==============================] - 10s 4ms/step - loss: 1.4882 - accuracy: 0.5438\n",
      "Epoch 8/25\n",
      "2444/2444 [==============================] - 11s 5ms/step - loss: 1.4294 - accuracy: 0.5590\n",
      "Epoch 9/25\n",
      "2444/2444 [==============================] - 11s 4ms/step - loss: 1.3813 - accuracy: 0.5716\n",
      "Epoch 10/25\n",
      "2444/2444 [==============================] - 11s 4ms/step - loss: 1.3414 - accuracy: 0.5828\n",
      "Epoch 11/25\n",
      "2444/2444 [==============================] - 11s 4ms/step - loss: 1.3010 - accuracy: 0.5932\n",
      "Epoch 12/25\n",
      "2444/2444 [==============================] - 11s 5ms/step - loss: 1.2672 - accuracy: 0.6024\n",
      "Epoch 13/25\n",
      "2444/2444 [==============================] - 11s 5ms/step - loss: 1.2381 - accuracy: 0.6116\n",
      "Epoch 14/25\n",
      "2444/2444 [==============================] - 11s 5ms/step - loss: 1.2122 - accuracy: 0.6197\n",
      "Epoch 15/25\n",
      "2444/2444 [==============================] - 11s 5ms/step - loss: 1.1879 - accuracy: 0.6248\n",
      "Epoch 16/25\n",
      "2444/2444 [==============================] - 11s 5ms/step - loss: 1.1652 - accuracy: 0.6314\n",
      "Epoch 17/25\n",
      "2444/2444 [==============================] - 13s 5ms/step - loss: 1.1442 - accuracy: 0.6373\n",
      "Epoch 18/25\n",
      "2444/2444 [==============================] - 12s 5ms/step - loss: 1.1238 - accuracy: 0.6450\n",
      "Epoch 19/25\n",
      "2444/2444 [==============================] - 12s 5ms/step - loss: 1.1066 - accuracy: 0.6496\n",
      "Epoch 20/25\n",
      "2444/2444 [==============================] - 12s 5ms/step - loss: 1.0871 - accuracy: 0.6542\n",
      "Epoch 21/25\n",
      "2444/2444 [==============================] - 13s 5ms/step - loss: 1.0745 - accuracy: 0.6582\n",
      "Epoch 22/25\n",
      "2444/2444 [==============================] - 13s 5ms/step - loss: 1.0573 - accuracy: 0.6607\n",
      "Epoch 23/25\n",
      "2444/2444 [==============================] - 13s 6ms/step - loss: 1.0440 - accuracy: 0.6680\n",
      "Epoch 24/25\n",
      "2444/2444 [==============================] - 14s 6ms/step - loss: 1.0297 - accuracy: 0.6716\n",
      "Epoch 25/25\n",
      "2444/2444 [==============================] - 20s 8ms/step - loss: 1.0185 - accuracy: 0.6755\n"
     ]
    },
    {
     "data": {
      "text/plain": [
       "<keras.callbacks.History at 0x251359ff610>"
      ]
     },
     "execution_count": 15,
     "metadata": {},
     "output_type": "execute_result"
    }
   ],
   "source": [
    "# CNN for top left quadrant\n",
    "\n",
    "# Define the input shape for each quadrant\n",
    "input_shape = (14, 14, 1)\n",
    "\n",
    "# Create a sequential model for the top left quadrant\n",
    "model_tl = Sequential()\n",
    "\n",
    "# Add a convolutional layer with 16 filters, 3x3 kernel size, and sigmoid activation\n",
    "model_tl.add(Conv2D(16, kernel_size=(3, 3), activation='sigmoid', input_shape=input_shape))\n",
    "\n",
    "# Add a max pooling layer with 2x2 pool size\n",
    "model_tl.add(MaxPooling2D(pool_size=(2, 2)))\n",
    "\n",
    "# Add a convolutional layer with 32 filters, 3x3 kernel size, and sigmoid activation\n",
    "model_tl.add(Conv2D(32, kernel_size=(3, 3), activation='sigmoid'))\n",
    "\n",
    "# Add a max pooling layer with 2x2 pool size\n",
    "model_tl.add(MaxPooling2D(pool_size=(2, 2)))\n",
    "\n",
    "# Flatten the output of the previous layer\n",
    "model_tl.add(Flatten())\n",
    "\n",
    "# Add a dense layer with 512 units and relu activation\n",
    "model_tl.add(Dense(512, activation='relu'))\n",
    "\n",
    "# Add the output layer with 46 units and softmax activation\n",
    "model_tl.add(Dense(46, activation='softmax'))\n",
    "\n",
    "# Compile the model with categorical crossentropy loss and Adam optimizer\n",
    "model_tl.compile(loss='categorical_crossentropy', optimizer='adam', metrics=['accuracy'])\n",
    "\n",
    "# Print the model summary\n",
    "model_tl.summary()\n",
    "\n",
    "# Train the model on the top left quadrant dataset\n",
    "model_tl.fit(x_train_tl, train_labels_onehot, batch_size=32, epochs=25)\n"
   ]
  },
  {
   "cell_type": "code",
   "execution_count": 16,
   "metadata": {},
   "outputs": [
    {
     "name": "stdout",
     "output_type": "stream",
     "text": [
      "Model: \"sequential_2\"\n",
      "_________________________________________________________________\n",
      " Layer (type)                Output Shape              Param #   \n",
      "=================================================================\n",
      " conv2d_4 (Conv2D)           (None, 12, 12, 16)        160       \n",
      "                                                                 \n",
      " max_pooling2d_4 (MaxPooling  (None, 6, 6, 16)         0         \n",
      " 2D)                                                             \n",
      "                                                                 \n",
      " conv2d_5 (Conv2D)           (None, 4, 4, 32)          4640      \n",
      "                                                                 \n",
      " max_pooling2d_5 (MaxPooling  (None, 2, 2, 32)         0         \n",
      " 2D)                                                             \n",
      "                                                                 \n",
      " flatten_2 (Flatten)         (None, 128)               0         \n",
      "                                                                 \n",
      " dense_4 (Dense)             (None, 512)               66048     \n",
      "                                                                 \n",
      " dense_5 (Dense)             (None, 46)                23598     \n",
      "                                                                 \n",
      "=================================================================\n",
      "Total params: 94,446\n",
      "Trainable params: 94,446\n",
      "Non-trainable params: 0\n",
      "_________________________________________________________________\n",
      "Epoch 1/25\n",
      "2444/2444 [==============================] - 9s 4ms/step - loss: 3.2566 - accuracy: 0.1359\n",
      "Epoch 2/25\n",
      "2444/2444 [==============================] - 9s 4ms/step - loss: 2.5331 - accuracy: 0.2795\n",
      "Epoch 3/25\n",
      "2444/2444 [==============================] - 11s 5ms/step - loss: 2.2854 - accuracy: 0.3409\n",
      "Epoch 4/25\n",
      "2444/2444 [==============================] - 11s 4ms/step - loss: 2.1222 - accuracy: 0.3824\n",
      "Epoch 5/25\n",
      "2444/2444 [==============================] - 11s 4ms/step - loss: 2.0047 - accuracy: 0.4128\n",
      "Epoch 6/25\n",
      "2444/2444 [==============================] - 11s 5ms/step - loss: 1.9160 - accuracy: 0.4349\n",
      "Epoch 7/25\n",
      "2444/2444 [==============================] - 11s 5ms/step - loss: 1.8431 - accuracy: 0.4534\n",
      "Epoch 8/25\n",
      "2444/2444 [==============================] - 11s 5ms/step - loss: 1.7839 - accuracy: 0.4702\n",
      "Epoch 9/25\n",
      "2444/2444 [==============================] - 12s 5ms/step - loss: 1.7338 - accuracy: 0.4824\n",
      "Epoch 10/25\n",
      "2444/2444 [==============================] - 11s 5ms/step - loss: 1.6920 - accuracy: 0.4954\n",
      "Epoch 11/25\n",
      "2444/2444 [==============================] - 12s 5ms/step - loss: 1.6523 - accuracy: 0.5036\n",
      "Epoch 12/25\n",
      "2444/2444 [==============================] - 12s 5ms/step - loss: 1.6205 - accuracy: 0.5106\n",
      "Epoch 13/25\n",
      "2444/2444 [==============================] - 12s 5ms/step - loss: 1.5880 - accuracy: 0.5218\n",
      "Epoch 14/25\n",
      "2444/2444 [==============================] - 12s 5ms/step - loss: 1.5619 - accuracy: 0.5290\n",
      "Epoch 15/25\n",
      "2444/2444 [==============================] - 12s 5ms/step - loss: 1.5344 - accuracy: 0.5366\n",
      "Epoch 16/25\n",
      "2444/2444 [==============================] - 13s 5ms/step - loss: 1.5098 - accuracy: 0.5421\n",
      "Epoch 17/25\n",
      "2444/2444 [==============================] - 15s 6ms/step - loss: 1.4879 - accuracy: 0.5504\n",
      "Epoch 18/25\n",
      "2444/2444 [==============================] - 16s 7ms/step - loss: 1.4662 - accuracy: 0.5550\n",
      "Epoch 19/25\n",
      "2444/2444 [==============================] - 16s 6ms/step - loss: 1.4478 - accuracy: 0.5587\n",
      "Epoch 20/25\n",
      "2444/2444 [==============================] - 16s 7ms/step - loss: 1.4295 - accuracy: 0.5636\n",
      "Epoch 21/25\n",
      "2444/2444 [==============================] - 14s 6ms/step - loss: 1.4144 - accuracy: 0.5712\n",
      "Epoch 22/25\n",
      "2444/2444 [==============================] - 15s 6ms/step - loss: 1.3961 - accuracy: 0.5716\n",
      "Epoch 23/25\n",
      "2444/2444 [==============================] - 15s 6ms/step - loss: 1.3807 - accuracy: 0.5790\n",
      "Epoch 24/25\n",
      "2444/2444 [==============================] - 15s 6ms/step - loss: 1.3671 - accuracy: 0.5817\n",
      "Epoch 25/25\n",
      "2444/2444 [==============================] - 15s 6ms/step - loss: 1.3503 - accuracy: 0.5877\n"
     ]
    },
    {
     "data": {
      "text/plain": [
       "<keras.callbacks.History at 0x25157466490>"
      ]
     },
     "execution_count": 16,
     "metadata": {},
     "output_type": "execute_result"
    }
   ],
   "source": [
    "# CNN for top right quadrant\n",
    "\n",
    "# Define the input shape for each quadrant\n",
    "input_shape = (14, 14, 1)\n",
    "\n",
    "# Create a sequential model for the top left quadrant\n",
    "model_tr = Sequential()\n",
    "\n",
    "# Add a convolutional layer with 16 filters, 3x3 kernel size, and sigmoid activation\n",
    "model_tr.add(Conv2D(16, kernel_size=(3, 3), activation='sigmoid', input_shape=input_shape))\n",
    "\n",
    "# Add a max pooling layer with 2x2 pool size\n",
    "model_tr.add(MaxPooling2D(pool_size=(2, 2)))\n",
    "\n",
    "# Add a convolutional layer with 32 filters, 3x3 kernel size, and sigmoid activation\n",
    "model_tr.add(Conv2D(32, kernel_size=(3, 3), activation='sigmoid'))\n",
    "\n",
    "# Add a max pooling layer with 2x2 pool size\n",
    "model_tr.add(MaxPooling2D(pool_size=(2, 2)))\n",
    "\n",
    "# Flatten the output of the previous layer\n",
    "model_tr.add(Flatten())\n",
    "\n",
    "# Add a dense layer with 512 units and relu activation\n",
    "model_tr.add(Dense(512, activation='relu'))\n",
    "\n",
    "# Add the output layer with 46 units and softmax activation\n",
    "model_tr.add(Dense(46, activation='softmax'))\n",
    "\n",
    "# Compile the model with categorical crossentropy loss and Adam optimizer\n",
    "model_tr.compile(loss='categorical_crossentropy', optimizer='adam', metrics=['accuracy'])\n",
    "\n",
    "# Print the model summary\n",
    "model_tr.summary()\n",
    "\n",
    "# Train the model on the top left quadrant dataset\n",
    "model_tr.fit(x_train_tr, train_labels_onehot, batch_size=32, epochs=25)"
   ]
  },
  {
   "cell_type": "code",
   "execution_count": 17,
   "metadata": {},
   "outputs": [
    {
     "name": "stdout",
     "output_type": "stream",
     "text": [
      "Model: \"sequential_3\"\n",
      "_________________________________________________________________\n",
      " Layer (type)                Output Shape              Param #   \n",
      "=================================================================\n",
      " conv2d_6 (Conv2D)           (None, 12, 12, 16)        160       \n",
      "                                                                 \n",
      " max_pooling2d_6 (MaxPooling  (None, 6, 6, 16)         0         \n",
      " 2D)                                                             \n",
      "                                                                 \n",
      " conv2d_7 (Conv2D)           (None, 4, 4, 32)          4640      \n",
      "                                                                 \n",
      " max_pooling2d_7 (MaxPooling  (None, 2, 2, 32)         0         \n",
      " 2D)                                                             \n",
      "                                                                 \n",
      " flatten_3 (Flatten)         (None, 128)               0         \n",
      "                                                                 \n",
      " dense_6 (Dense)             (None, 512)               66048     \n",
      "                                                                 \n",
      " dense_7 (Dense)             (None, 46)                23598     \n",
      "                                                                 \n",
      "=================================================================\n",
      "Total params: 94,446\n",
      "Trainable params: 94,446\n",
      "Non-trainable params: 0\n",
      "_________________________________________________________________\n",
      "Epoch 1/25\n",
      "2444/2444 [==============================] - 14s 5ms/step - loss: 2.8172 - accuracy: 0.2360\n",
      "Epoch 2/25\n",
      "2444/2444 [==============================] - 15s 6ms/step - loss: 1.8727 - accuracy: 0.4417\n",
      "Epoch 3/25\n",
      "2444/2444 [==============================] - 15s 6ms/step - loss: 1.6264 - accuracy: 0.5054\n",
      "Epoch 4/25\n",
      "2444/2444 [==============================] - 14s 6ms/step - loss: 1.4743 - accuracy: 0.5452\n",
      "Epoch 5/25\n",
      "2444/2444 [==============================] - 14s 6ms/step - loss: 1.3625 - accuracy: 0.5755\n",
      "Epoch 6/25\n",
      "2444/2444 [==============================] - 14s 6ms/step - loss: 1.2795 - accuracy: 0.5994\n",
      "Epoch 7/25\n",
      "2444/2444 [==============================] - 14s 6ms/step - loss: 1.2132 - accuracy: 0.6178\n",
      "Epoch 8/25\n",
      "2444/2444 [==============================] - 14s 6ms/step - loss: 1.1569 - accuracy: 0.6333\n",
      "Epoch 9/25\n",
      "2444/2444 [==============================] - 14s 6ms/step - loss: 1.1100 - accuracy: 0.6461\n",
      "Epoch 10/25\n",
      "2444/2444 [==============================] - 14s 6ms/step - loss: 1.0694 - accuracy: 0.6594\n",
      "Epoch 11/25\n",
      "2444/2444 [==============================] - 14s 6ms/step - loss: 1.0328 - accuracy: 0.6684\n",
      "Epoch 12/25\n",
      "2444/2444 [==============================] - 14s 6ms/step - loss: 1.0019 - accuracy: 0.6769\n",
      "Epoch 13/25\n",
      "2444/2444 [==============================] - 14s 6ms/step - loss: 0.9724 - accuracy: 0.6865\n",
      "Epoch 14/25\n",
      "2444/2444 [==============================] - 15s 6ms/step - loss: 0.9470 - accuracy: 0.6931\n",
      "Epoch 15/25\n",
      "2444/2444 [==============================] - 15s 6ms/step - loss: 0.9203 - accuracy: 0.7031\n",
      "Epoch 16/25\n",
      "2444/2444 [==============================] - 15s 6ms/step - loss: 0.8987 - accuracy: 0.7082\n",
      "Epoch 17/25\n",
      "2444/2444 [==============================] - 15s 6ms/step - loss: 0.8781 - accuracy: 0.7153\n",
      "Epoch 18/25\n",
      "2444/2444 [==============================] - 15s 6ms/step - loss: 0.8553 - accuracy: 0.7210\n",
      "Epoch 19/25\n",
      "2444/2444 [==============================] - 15s 6ms/step - loss: 0.8404 - accuracy: 0.7235\n",
      "Epoch 20/25\n",
      "2444/2444 [==============================] - 15s 6ms/step - loss: 0.8225 - accuracy: 0.7314\n",
      "Epoch 21/25\n",
      "2444/2444 [==============================] - 15s 6ms/step - loss: 0.8076 - accuracy: 0.7343\n",
      "Epoch 22/25\n",
      "2444/2444 [==============================] - 15s 6ms/step - loss: 0.7937 - accuracy: 0.7402\n",
      "Epoch 23/25\n",
      "2444/2444 [==============================] - 15s 6ms/step - loss: 0.7782 - accuracy: 0.7436\n",
      "Epoch 24/25\n",
      "2444/2444 [==============================] - 15s 6ms/step - loss: 0.7655 - accuracy: 0.7477\n",
      "Epoch 25/25\n",
      "2444/2444 [==============================] - 14s 6ms/step - loss: 0.7520 - accuracy: 0.7520\n"
     ]
    },
    {
     "data": {
      "text/plain": [
       "<keras.callbacks.History at 0x2515bbb7850>"
      ]
     },
     "execution_count": 17,
     "metadata": {},
     "output_type": "execute_result"
    }
   ],
   "source": [
    "# CNN for bottom left quadrant\n",
    "\n",
    "# Define the input shape for each quadrant\n",
    "input_shape = (14, 14, 1)\n",
    "\n",
    "# Create a sequential model for the top left quadrant\n",
    "model_bl = Sequential()\n",
    "\n",
    "# Add a convolutional layer with 16 filters, 3x3 kernel size, and sigmoid activation\n",
    "model_bl.add(Conv2D(16, kernel_size=(3, 3), activation='sigmoid', input_shape=input_shape))\n",
    "\n",
    "# Add a max pooling layer with 2x2 pool size\n",
    "model_bl.add(MaxPooling2D(pool_size=(2, 2)))\n",
    "\n",
    "# Add a convolutional layer with 32 filters, 3x3 kernel size, and sigmoid activation\n",
    "model_bl.add(Conv2D(32, kernel_size=(3, 3), activation='sigmoid'))\n",
    "\n",
    "# Add a max pooling layer with 2x2 pool size\n",
    "model_bl.add(MaxPooling2D(pool_size=(2, 2)))\n",
    "\n",
    "# Flatten the output of the previous layer\n",
    "model_bl.add(Flatten())\n",
    "\n",
    "# Add a dense layer with 512 units and relu activation\n",
    "model_bl.add(Dense(512, activation='relu'))\n",
    "\n",
    "# Add the output layer with 46 units and softmax activation\n",
    "model_bl.add(Dense(46, activation='softmax'))\n",
    "\n",
    "# Compile the model with categorical crossentropy loss and Adam optimizer\n",
    "model_bl.compile(loss='categorical_crossentropy', optimizer='adam', metrics=['accuracy'])\n",
    "\n",
    "# Print the model summary\n",
    "model_bl.summary()\n",
    "\n",
    "# Train the model on the top left quadrant dataset\n",
    "model_bl.fit(x_train_bl, train_labels_onehot, batch_size=32, epochs=25)"
   ]
  },
  {
   "cell_type": "code",
   "execution_count": 18,
   "metadata": {},
   "outputs": [
    {
     "name": "stdout",
     "output_type": "stream",
     "text": [
      "Model: \"sequential_4\"\n",
      "_________________________________________________________________\n",
      " Layer (type)                Output Shape              Param #   \n",
      "=================================================================\n",
      " conv2d_8 (Conv2D)           (None, 12, 12, 16)        160       \n",
      "                                                                 \n",
      " max_pooling2d_8 (MaxPooling  (None, 6, 6, 16)         0         \n",
      " 2D)                                                             \n",
      "                                                                 \n",
      " conv2d_9 (Conv2D)           (None, 4, 4, 32)          4640      \n",
      "                                                                 \n",
      " max_pooling2d_9 (MaxPooling  (None, 2, 2, 32)         0         \n",
      " 2D)                                                             \n",
      "                                                                 \n",
      " flatten_4 (Flatten)         (None, 128)               0         \n",
      "                                                                 \n",
      " dense_8 (Dense)             (None, 512)               66048     \n",
      "                                                                 \n",
      " dense_9 (Dense)             (None, 46)                23598     \n",
      "                                                                 \n",
      "=================================================================\n",
      "Total params: 94,446\n",
      "Trainable params: 94,446\n",
      "Non-trainable params: 0\n",
      "_________________________________________________________________\n",
      "Epoch 1/25\n",
      "2444/2444 [==============================] - 14s 5ms/step - loss: 2.9642 - accuracy: 0.1859\n",
      "Epoch 2/25\n",
      "2444/2444 [==============================] - 15s 6ms/step - loss: 2.1633 - accuracy: 0.3518\n",
      "Epoch 3/25\n",
      "2444/2444 [==============================] - 14s 6ms/step - loss: 1.9204 - accuracy: 0.4109\n",
      "Epoch 4/25\n",
      "2444/2444 [==============================] - 15s 6ms/step - loss: 1.7883 - accuracy: 0.4488\n",
      "Epoch 5/25\n",
      "2444/2444 [==============================] - 15s 6ms/step - loss: 1.6950 - accuracy: 0.4726\n",
      "Epoch 6/25\n",
      "2444/2444 [==============================] - 15s 6ms/step - loss: 1.6256 - accuracy: 0.4912\n",
      "Epoch 7/25\n",
      "2444/2444 [==============================] - 15s 6ms/step - loss: 1.5694 - accuracy: 0.5078\n",
      "Epoch 8/25\n",
      "2444/2444 [==============================] - 15s 6ms/step - loss: 1.5225 - accuracy: 0.5209\n",
      "Epoch 9/25\n",
      "2444/2444 [==============================] - 15s 6ms/step - loss: 1.4810 - accuracy: 0.5312\n",
      "Epoch 10/25\n",
      "2444/2444 [==============================] - 15s 6ms/step - loss: 1.4429 - accuracy: 0.5420\n",
      "Epoch 11/25\n",
      "2444/2444 [==============================] - 16s 7ms/step - loss: 1.4088 - accuracy: 0.5527\n",
      "Epoch 12/25\n",
      "2444/2444 [==============================] - 17s 7ms/step - loss: 1.3789 - accuracy: 0.5604\n",
      "Epoch 13/25\n",
      "2444/2444 [==============================] - 15s 6ms/step - loss: 1.3537 - accuracy: 0.5676\n",
      "Epoch 14/25\n",
      "2444/2444 [==============================] - 15s 6ms/step - loss: 1.3288 - accuracy: 0.5781\n",
      "Epoch 15/25\n",
      "2444/2444 [==============================] - 14s 6ms/step - loss: 1.3068 - accuracy: 0.5825\n",
      "Epoch 16/25\n",
      "2444/2444 [==============================] - 15s 6ms/step - loss: 1.2871 - accuracy: 0.5868\n",
      "Epoch 17/25\n",
      "2444/2444 [==============================] - 14s 6ms/step - loss: 1.2682 - accuracy: 0.5942\n",
      "Epoch 18/25\n",
      "2444/2444 [==============================] - 15s 6ms/step - loss: 1.2511 - accuracy: 0.5985\n",
      "Epoch 19/25\n",
      "2444/2444 [==============================] - 15s 6ms/step - loss: 1.2346 - accuracy: 0.6031\n",
      "Epoch 20/25\n",
      "2444/2444 [==============================] - 15s 6ms/step - loss: 1.2204 - accuracy: 0.6089\n",
      "Epoch 21/25\n",
      "2444/2444 [==============================] - 14s 6ms/step - loss: 1.2057 - accuracy: 0.6118\n",
      "Epoch 22/25\n",
      "2444/2444 [==============================] - 15s 6ms/step - loss: 1.1930 - accuracy: 0.6147\n",
      "Epoch 23/25\n",
      "2444/2444 [==============================] - 15s 6ms/step - loss: 1.1767 - accuracy: 0.6221\n",
      "Epoch 24/25\n",
      "2444/2444 [==============================] - 15s 6ms/step - loss: 1.1682 - accuracy: 0.6246\n",
      "Epoch 25/25\n",
      "2444/2444 [==============================] - 15s 6ms/step - loss: 1.1539 - accuracy: 0.6272\n"
     ]
    },
    {
     "data": {
      "text/plain": [
       "<keras.callbacks.History at 0x25163e27610>"
      ]
     },
     "execution_count": 18,
     "metadata": {},
     "output_type": "execute_result"
    }
   ],
   "source": [
    "# CNN for bottom right quadrant\n",
    "\n",
    "# Define the input shape for each quadrant\n",
    "input_shape = (14, 14, 1)\n",
    "\n",
    "# Create a sequential model for the top left quadrant\n",
    "model_br = Sequential()\n",
    "\n",
    "# Add a convolutional layer with 16 filters, 3x3 kernel size, and sigmoid activation\n",
    "model_br.add(Conv2D(16, kernel_size=(3, 3), activation='sigmoid', input_shape=input_shape))\n",
    "\n",
    "# Add a max pooling layer with 2x2 pool size\n",
    "model_br.add(MaxPooling2D(pool_size=(2, 2)))\n",
    "\n",
    "# Add a convolutional layer with 32 filters, 3x3 kernel size, and sigmoid activation\n",
    "model_br.add(Conv2D(32, kernel_size=(3, 3), activation='sigmoid'))\n",
    "\n",
    "# Add a max pooling layer with 2x2 pool size\n",
    "model_br.add(MaxPooling2D(pool_size=(2, 2)))\n",
    "\n",
    "# Flatten the output of the previous layer\n",
    "model_br.add(Flatten())\n",
    "\n",
    "# Add a dense layer with 512 units and relu activation\n",
    "model_br.add(Dense(512, activation='relu'))\n",
    "\n",
    "# Add the output layer with 46 units and softmax activation\n",
    "model_br.add(Dense(46, activation='softmax'))\n",
    "\n",
    "# Compile the model with categorical crossentropy loss and Adam optimizer\n",
    "model_br.compile(loss='categorical_crossentropy', optimizer='adam', metrics=['accuracy'])\n",
    "\n",
    "# Print the model summary\n",
    "model_br.summary()\n",
    "\n",
    "# Train the model on the top left quadrant dataset\n",
    "model_br.fit(x_train_br, train_labels_onehot, batch_size=32, epochs=25)"
   ]
  },
  {
   "cell_type": "code",
   "execution_count": 19,
   "metadata": {},
   "outputs": [
    {
     "name": "stdout",
     "output_type": "stream",
     "text": [
      "Model: \"sequential_5\"\n",
      "_________________________________________________________________\n",
      " Layer (type)                Output Shape              Param #   \n",
      "=================================================================\n",
      " conv2d_10 (Conv2D)          (None, 12, 12, 16)        160       \n",
      "                                                                 \n",
      " max_pooling2d_10 (MaxPoolin  (None, 6, 6, 16)         0         \n",
      " g2D)                                                            \n",
      "                                                                 \n",
      " conv2d_11 (Conv2D)          (None, 4, 4, 32)          4640      \n",
      "                                                                 \n",
      " max_pooling2d_11 (MaxPoolin  (None, 2, 2, 32)         0         \n",
      " g2D)                                                            \n",
      "                                                                 \n",
      " flatten_5 (Flatten)         (None, 128)               0         \n",
      "                                                                 \n",
      " dense_10 (Dense)            (None, 512)               66048     \n",
      "                                                                 \n",
      " dense_11 (Dense)            (None, 46)                23598     \n",
      "                                                                 \n",
      "=================================================================\n",
      "Total params: 94,446\n",
      "Trainable params: 94,446\n",
      "Non-trainable params: 0\n",
      "_________________________________________________________________\n",
      "Epoch 1/25\n",
      "2444/2444 [==============================] - 10s 4ms/step - loss: 2.9922 - accuracy: 0.2039\n",
      "Epoch 2/25\n",
      "2444/2444 [==============================] - 14s 6ms/step - loss: 1.9317 - accuracy: 0.4407\n",
      "Epoch 3/25\n",
      "2444/2444 [==============================] - 14s 6ms/step - loss: 1.5472 - accuracy: 0.5415\n",
      "Epoch 4/25\n",
      "2444/2444 [==============================] - 14s 6ms/step - loss: 1.3280 - accuracy: 0.6019\n",
      "Epoch 5/25\n",
      "2444/2444 [==============================] - 14s 6ms/step - loss: 1.1874 - accuracy: 0.6380\n",
      "Epoch 6/25\n",
      "2444/2444 [==============================] - 14s 6ms/step - loss: 1.0864 - accuracy: 0.6657\n",
      "Epoch 7/25\n",
      "2444/2444 [==============================] - 14s 6ms/step - loss: 1.0089 - accuracy: 0.6889\n",
      "Epoch 8/25\n",
      "2444/2444 [==============================] - 15s 6ms/step - loss: 0.9450 - accuracy: 0.7067\n",
      "Epoch 9/25\n",
      "2444/2444 [==============================] - 14s 6ms/step - loss: 0.8949 - accuracy: 0.7202\n",
      "Epoch 10/25\n",
      "2444/2444 [==============================] - 14s 6ms/step - loss: 0.8496 - accuracy: 0.7327\n",
      "Epoch 11/25\n",
      "2444/2444 [==============================] - 14s 6ms/step - loss: 0.8115 - accuracy: 0.7430\n",
      "Epoch 12/25\n",
      "2444/2444 [==============================] - 14s 6ms/step - loss: 0.7776 - accuracy: 0.7537\n",
      "Epoch 13/25\n",
      "2444/2444 [==============================] - 14s 6ms/step - loss: 0.7486 - accuracy: 0.7612\n",
      "Epoch 14/25\n",
      "2444/2444 [==============================] - 14s 6ms/step - loss: 0.7233 - accuracy: 0.7686\n",
      "Epoch 15/25\n",
      "2444/2444 [==============================] - 14s 6ms/step - loss: 0.7003 - accuracy: 0.7757\n",
      "Epoch 16/25\n",
      "2444/2444 [==============================] - 14s 6ms/step - loss: 0.6761 - accuracy: 0.7814\n",
      "Epoch 17/25\n",
      "2444/2444 [==============================] - 14s 6ms/step - loss: 0.6573 - accuracy: 0.7884\n",
      "Epoch 18/25\n",
      "2444/2444 [==============================] - 15s 6ms/step - loss: 0.6395 - accuracy: 0.7928\n",
      "Epoch 19/25\n",
      "2444/2444 [==============================] - 14s 6ms/step - loss: 0.6230 - accuracy: 0.7992\n",
      "Epoch 20/25\n",
      "2444/2444 [==============================] - 16s 6ms/step - loss: 0.6063 - accuracy: 0.8027\n",
      "Epoch 21/25\n",
      "2444/2444 [==============================] - 15s 6ms/step - loss: 0.5936 - accuracy: 0.8063\n",
      "Epoch 22/25\n",
      "2444/2444 [==============================] - 14s 6ms/step - loss: 0.5791 - accuracy: 0.8119\n",
      "Epoch 23/25\n",
      "2444/2444 [==============================] - 14s 6ms/step - loss: 0.5659 - accuracy: 0.8151\n",
      "Epoch 24/25\n",
      "2444/2444 [==============================] - 14s 6ms/step - loss: 0.5534 - accuracy: 0.8191\n",
      "Epoch 25/25\n",
      "2444/2444 [==============================] - 14s 6ms/step - loss: 0.5437 - accuracy: 0.8213\n"
     ]
    },
    {
     "data": {
      "text/plain": [
       "<keras.callbacks.History at 0x251329f7610>"
      ]
     },
     "execution_count": 19,
     "metadata": {},
     "output_type": "execute_result"
    }
   ],
   "source": [
    "# CNN for center quadrant\n",
    "\n",
    "# Define the input shape for each quadrant\n",
    "input_shape = (14, 14, 1)\n",
    "\n",
    "# Create a sequential model for the top left quadrant\n",
    "model_c = Sequential()\n",
    "\n",
    "# Add a convolutional layer with 16 filters, 3x3 kernel size, and sigmoid activation\n",
    "model_c.add(Conv2D(16, kernel_size=(3, 3), activation='sigmoid', input_shape=input_shape))\n",
    "\n",
    "# Add a max pooling layer with 2x2 pool size\n",
    "model_c.add(MaxPooling2D(pool_size=(2, 2)))\n",
    "\n",
    "# Add a convolutional layer with 32 filters, 3x3 kernel size, and sigmoid activation\n",
    "model_c.add(Conv2D(32, kernel_size=(3, 3), activation='sigmoid'))\n",
    "\n",
    "# Add a max pooling layer with 2x2 pool size\n",
    "model_c.add(MaxPooling2D(pool_size=(2, 2)))\n",
    "\n",
    "# Flatten the output of the previous layer\n",
    "model_c.add(Flatten())\n",
    "\n",
    "# Add a dense layer with 512 units and relu activation\n",
    "model_c.add(Dense(512, activation='relu'))\n",
    "\n",
    "# Add the output layer with 46 units and softmax activation\n",
    "model_c.add(Dense(46, activation='softmax'))\n",
    "\n",
    "# Compile the model with categorical crossentropy loss and Adam optimizer\n",
    "model_c.compile(loss='categorical_crossentropy', optimizer='adam', metrics=['accuracy'])\n",
    "\n",
    "# Print the model summary\n",
    "model_c.summary()\n",
    "\n",
    "# Train the model on the top left quadrant dataset\n",
    "model_c.fit(x_train_c, train_labels_onehot, batch_size=32, epochs=25)"
   ]
  },
  {
   "cell_type": "code",
   "execution_count": 20,
   "metadata": {},
   "outputs": [
    {
     "name": "stdout",
     "output_type": "stream",
     "text": [
      "2444/2444 [==============================] - 4s 1ms/step\n",
      "2444/2444 [==============================] - 4s 1ms/step\n",
      "2444/2444 [==============================] - 4s 2ms/step\n",
      "2444/2444 [==============================] - 5s 2ms/step\n",
      "2444/2444 [==============================] - 5s 2ms/step\n"
     ]
    }
   ],
   "source": [
    "from tensorflow.keras.models import Model\n",
    "\n",
    "# create new models to extract features from the last dense layer\n",
    "model_tl_features = Model(inputs=model_tl.input, outputs=model_tl.get_layer('dense_2').output)\n",
    "model_tr_features = Model(inputs=model_tr.input, outputs=model_tr.get_layer('dense_4').output)\n",
    "model_bl_features = Model(inputs=model_bl.input, outputs=model_bl.get_layer('dense_6').output)\n",
    "model_br_features = Model(inputs=model_br.input, outputs=model_br.get_layer('dense_8').output)\n",
    "model_c_features = Model(inputs=model_c.input, outputs=model_c.get_layer('dense_10').output)\n",
    "\n",
    "# extract features from the last dense layer for each quadrant\n",
    "tl_features = model_tl_features.predict(x_train_tl)\n",
    "tr_features = model_tr_features.predict(x_train_tr)\n",
    "bl_features = model_bl_features.predict(x_train_bl)\n",
    "br_features = model_br_features.predict(x_train_br)\n",
    "center_features = model_c_features.predict(x_train_c)\n",
    "\n",
    "# concatenate the features from all 5 quadrants into a single input\n",
    "features = np.concatenate((tl_features, tr_features, bl_features, br_features, center_features), axis=1)"
   ]
  },
  {
   "cell_type": "code",
   "execution_count": 21,
   "metadata": {},
   "outputs": [
    {
     "name": "stdout",
     "output_type": "stream",
     "text": [
      "Model: \"model\"\n",
      "_________________________________________________________________\n",
      " Layer (type)                Output Shape              Param #   \n",
      "=================================================================\n",
      " conv2d_2_input (InputLayer)  [(None, 14, 14, 1)]      0         \n",
      "                                                                 \n",
      " conv2d_2 (Conv2D)           (None, 12, 12, 16)        160       \n",
      "                                                                 \n",
      " max_pooling2d_2 (MaxPooling  (None, 6, 6, 16)         0         \n",
      " 2D)                                                             \n",
      "                                                                 \n",
      " conv2d_3 (Conv2D)           (None, 4, 4, 32)          4640      \n",
      "                                                                 \n",
      " max_pooling2d_3 (MaxPooling  (None, 2, 2, 32)         0         \n",
      " 2D)                                                             \n",
      "                                                                 \n",
      " flatten_1 (Flatten)         (None, 128)               0         \n",
      "                                                                 \n",
      " dense_2 (Dense)             (None, 512)               66048     \n",
      "                                                                 \n",
      "=================================================================\n",
      "Total params: 70,848\n",
      "Trainable params: 70,848\n",
      "Non-trainable params: 0\n",
      "_________________________________________________________________\n",
      "None\n"
     ]
    }
   ],
   "source": [
    "print(model_tl_features.summary())"
   ]
  },
  {
   "cell_type": "code",
   "execution_count": 22,
   "metadata": {},
   "outputs": [
    {
     "name": "stdout",
     "output_type": "stream",
     "text": [
      "(78200, 14, 14, 1)\n",
      "(78200, 512)\n",
      "(78200, 2560)\n"
     ]
    }
   ],
   "source": [
    "print(x_train_tl.shape)\n",
    "print(tl_features.shape)\n",
    "print(features.shape)"
   ]
  },
  {
   "cell_type": "code",
   "execution_count": 23,
   "metadata": {},
   "outputs": [
    {
     "name": "stdout",
     "output_type": "stream",
     "text": [
      "Epoch 1/25\n",
      "2444/2444 [==============================] - 346s 141ms/step - loss: 0.3541 - accuracy: 0.9028\n",
      "Epoch 2/25\n",
      "2444/2444 [==============================] - 369s 151ms/step - loss: 0.1724 - accuracy: 0.9581\n",
      "Epoch 3/25\n",
      "2444/2444 [==============================] - 372s 152ms/step - loss: 0.1274 - accuracy: 0.9707\n",
      "Epoch 4/25\n",
      "2444/2444 [==============================] - 369s 151ms/step - loss: 0.1120 - accuracy: 0.9757\n",
      "Epoch 5/25\n",
      "2444/2444 [==============================] - 369s 151ms/step - loss: 0.0945 - accuracy: 0.9793\n",
      "Epoch 6/25\n",
      "2444/2444 [==============================] - 368s 150ms/step - loss: 0.0886 - accuracy: 0.9818\n",
      "Epoch 7/25\n",
      "2444/2444 [==============================] - 370s 151ms/step - loss: 0.0749 - accuracy: 0.9847\n",
      "Epoch 8/25\n",
      "2444/2444 [==============================] - 370s 151ms/step - loss: 0.0824 - accuracy: 0.9850\n",
      "Epoch 9/25\n",
      "2444/2444 [==============================] - 375s 154ms/step - loss: 0.0635 - accuracy: 0.9878\n",
      "Epoch 10/25\n",
      "2444/2444 [==============================] - 377s 154ms/step - loss: 0.0674 - accuracy: 0.9870\n",
      "Epoch 11/25\n",
      " 134/2444 [>.............................] - ETA: 6:04 - loss: 0.0824 - accuracy: 0.9890"
     ]
    },
    {
     "ename": "KeyboardInterrupt",
     "evalue": "",
     "output_type": "error",
     "traceback": [
      "\u001b[1;31m---------------------------------------------------------------------------\u001b[0m",
      "\u001b[1;31mKeyboardInterrupt\u001b[0m                         Traceback (most recent call last)",
      "Cell \u001b[1;32mIn[23], line 15\u001b[0m\n\u001b[0;32m     12\u001b[0m \u001b[39m# compile the model\u001b[39;00m\n\u001b[0;32m     13\u001b[0m classifier\u001b[39m.\u001b[39mcompile(optimizer\u001b[39m=\u001b[39m\u001b[39m'\u001b[39m\u001b[39madam\u001b[39m\u001b[39m'\u001b[39m, loss\u001b[39m=\u001b[39m\u001b[39m'\u001b[39m\u001b[39mcategorical_crossentropy\u001b[39m\u001b[39m'\u001b[39m, metrics\u001b[39m=\u001b[39m[\u001b[39m'\u001b[39m\u001b[39maccuracy\u001b[39m\u001b[39m'\u001b[39m])\n\u001b[1;32m---> 15\u001b[0m history \u001b[39m=\u001b[39m classifier\u001b[39m.\u001b[39;49mfit(features, train_labels_onehot, batch_size\u001b[39m=\u001b[39;49m\u001b[39m32\u001b[39;49m, epochs\u001b[39m=\u001b[39;49m\u001b[39m25\u001b[39;49m)\n",
      "File \u001b[1;32mc:\\Users\\evedr\\AppData\\Local\\Programs\\Python\\Python311\\Lib\\site-packages\\keras\\utils\\traceback_utils.py:65\u001b[0m, in \u001b[0;36mfilter_traceback.<locals>.error_handler\u001b[1;34m(*args, **kwargs)\u001b[0m\n\u001b[0;32m     63\u001b[0m filtered_tb \u001b[39m=\u001b[39m \u001b[39mNone\u001b[39;00m\n\u001b[0;32m     64\u001b[0m \u001b[39mtry\u001b[39;00m:\n\u001b[1;32m---> 65\u001b[0m     \u001b[39mreturn\u001b[39;00m fn(\u001b[39m*\u001b[39;49margs, \u001b[39m*\u001b[39;49m\u001b[39m*\u001b[39;49mkwargs)\n\u001b[0;32m     66\u001b[0m \u001b[39mexcept\u001b[39;00m \u001b[39mException\u001b[39;00m \u001b[39mas\u001b[39;00m e:\n\u001b[0;32m     67\u001b[0m     filtered_tb \u001b[39m=\u001b[39m _process_traceback_frames(e\u001b[39m.\u001b[39m__traceback__)\n",
      "File \u001b[1;32mc:\\Users\\evedr\\AppData\\Local\\Programs\\Python\\Python311\\Lib\\site-packages\\keras\\engine\\training.py:1685\u001b[0m, in \u001b[0;36mModel.fit\u001b[1;34m(self, x, y, batch_size, epochs, verbose, callbacks, validation_split, validation_data, shuffle, class_weight, sample_weight, initial_epoch, steps_per_epoch, validation_steps, validation_batch_size, validation_freq, max_queue_size, workers, use_multiprocessing)\u001b[0m\n\u001b[0;32m   1677\u001b[0m \u001b[39mwith\u001b[39;00m tf\u001b[39m.\u001b[39mprofiler\u001b[39m.\u001b[39mexperimental\u001b[39m.\u001b[39mTrace(\n\u001b[0;32m   1678\u001b[0m     \u001b[39m\"\u001b[39m\u001b[39mtrain\u001b[39m\u001b[39m\"\u001b[39m,\n\u001b[0;32m   1679\u001b[0m     epoch_num\u001b[39m=\u001b[39mepoch,\n\u001b[1;32m   (...)\u001b[0m\n\u001b[0;32m   1682\u001b[0m     _r\u001b[39m=\u001b[39m\u001b[39m1\u001b[39m,\n\u001b[0;32m   1683\u001b[0m ):\n\u001b[0;32m   1684\u001b[0m     callbacks\u001b[39m.\u001b[39mon_train_batch_begin(step)\n\u001b[1;32m-> 1685\u001b[0m     tmp_logs \u001b[39m=\u001b[39m \u001b[39mself\u001b[39;49m\u001b[39m.\u001b[39;49mtrain_function(iterator)\n\u001b[0;32m   1686\u001b[0m     \u001b[39mif\u001b[39;00m data_handler\u001b[39m.\u001b[39mshould_sync:\n\u001b[0;32m   1687\u001b[0m         context\u001b[39m.\u001b[39masync_wait()\n",
      "File \u001b[1;32mc:\\Users\\evedr\\AppData\\Local\\Programs\\Python\\Python311\\Lib\\site-packages\\tensorflow\\python\\util\\traceback_utils.py:150\u001b[0m, in \u001b[0;36mfilter_traceback.<locals>.error_handler\u001b[1;34m(*args, **kwargs)\u001b[0m\n\u001b[0;32m    148\u001b[0m filtered_tb \u001b[39m=\u001b[39m \u001b[39mNone\u001b[39;00m\n\u001b[0;32m    149\u001b[0m \u001b[39mtry\u001b[39;00m:\n\u001b[1;32m--> 150\u001b[0m   \u001b[39mreturn\u001b[39;00m fn(\u001b[39m*\u001b[39;49margs, \u001b[39m*\u001b[39;49m\u001b[39m*\u001b[39;49mkwargs)\n\u001b[0;32m    151\u001b[0m \u001b[39mexcept\u001b[39;00m \u001b[39mException\u001b[39;00m \u001b[39mas\u001b[39;00m e:\n\u001b[0;32m    152\u001b[0m   filtered_tb \u001b[39m=\u001b[39m _process_traceback_frames(e\u001b[39m.\u001b[39m__traceback__)\n",
      "File \u001b[1;32mc:\\Users\\evedr\\AppData\\Local\\Programs\\Python\\Python311\\Lib\\site-packages\\tensorflow\\python\\eager\\polymorphic_function\\polymorphic_function.py:894\u001b[0m, in \u001b[0;36mFunction.__call__\u001b[1;34m(self, *args, **kwds)\u001b[0m\n\u001b[0;32m    891\u001b[0m compiler \u001b[39m=\u001b[39m \u001b[39m\"\u001b[39m\u001b[39mxla\u001b[39m\u001b[39m\"\u001b[39m \u001b[39mif\u001b[39;00m \u001b[39mself\u001b[39m\u001b[39m.\u001b[39m_jit_compile \u001b[39melse\u001b[39;00m \u001b[39m\"\u001b[39m\u001b[39mnonXla\u001b[39m\u001b[39m\"\u001b[39m\n\u001b[0;32m    893\u001b[0m \u001b[39mwith\u001b[39;00m OptionalXlaContext(\u001b[39mself\u001b[39m\u001b[39m.\u001b[39m_jit_compile):\n\u001b[1;32m--> 894\u001b[0m   result \u001b[39m=\u001b[39m \u001b[39mself\u001b[39;49m\u001b[39m.\u001b[39;49m_call(\u001b[39m*\u001b[39;49margs, \u001b[39m*\u001b[39;49m\u001b[39m*\u001b[39;49mkwds)\n\u001b[0;32m    896\u001b[0m new_tracing_count \u001b[39m=\u001b[39m \u001b[39mself\u001b[39m\u001b[39m.\u001b[39mexperimental_get_tracing_count()\n\u001b[0;32m    897\u001b[0m without_tracing \u001b[39m=\u001b[39m (tracing_count \u001b[39m==\u001b[39m new_tracing_count)\n",
      "File \u001b[1;32mc:\\Users\\evedr\\AppData\\Local\\Programs\\Python\\Python311\\Lib\\site-packages\\tensorflow\\python\\eager\\polymorphic_function\\polymorphic_function.py:926\u001b[0m, in \u001b[0;36mFunction._call\u001b[1;34m(self, *args, **kwds)\u001b[0m\n\u001b[0;32m    923\u001b[0m   \u001b[39mself\u001b[39m\u001b[39m.\u001b[39m_lock\u001b[39m.\u001b[39mrelease()\n\u001b[0;32m    924\u001b[0m   \u001b[39m# In this case we have created variables on the first call, so we run the\u001b[39;00m\n\u001b[0;32m    925\u001b[0m   \u001b[39m# defunned version which is guaranteed to never create variables.\u001b[39;00m\n\u001b[1;32m--> 926\u001b[0m   \u001b[39mreturn\u001b[39;00m \u001b[39mself\u001b[39;49m\u001b[39m.\u001b[39;49m_no_variable_creation_fn(\u001b[39m*\u001b[39;49margs, \u001b[39m*\u001b[39;49m\u001b[39m*\u001b[39;49mkwds)  \u001b[39m# pylint: disable=not-callable\u001b[39;00m\n\u001b[0;32m    927\u001b[0m \u001b[39melif\u001b[39;00m \u001b[39mself\u001b[39m\u001b[39m.\u001b[39m_variable_creation_fn \u001b[39mis\u001b[39;00m \u001b[39mnot\u001b[39;00m \u001b[39mNone\u001b[39;00m:\n\u001b[0;32m    928\u001b[0m   \u001b[39m# Release the lock early so that multiple threads can perform the call\u001b[39;00m\n\u001b[0;32m    929\u001b[0m   \u001b[39m# in parallel.\u001b[39;00m\n\u001b[0;32m    930\u001b[0m   \u001b[39mself\u001b[39m\u001b[39m.\u001b[39m_lock\u001b[39m.\u001b[39mrelease()\n",
      "File \u001b[1;32mc:\\Users\\evedr\\AppData\\Local\\Programs\\Python\\Python311\\Lib\\site-packages\\tensorflow\\python\\eager\\polymorphic_function\\tracing_compiler.py:143\u001b[0m, in \u001b[0;36mTracingCompiler.__call__\u001b[1;34m(self, *args, **kwargs)\u001b[0m\n\u001b[0;32m    140\u001b[0m \u001b[39mwith\u001b[39;00m \u001b[39mself\u001b[39m\u001b[39m.\u001b[39m_lock:\n\u001b[0;32m    141\u001b[0m   (concrete_function,\n\u001b[0;32m    142\u001b[0m    filtered_flat_args) \u001b[39m=\u001b[39m \u001b[39mself\u001b[39m\u001b[39m.\u001b[39m_maybe_define_function(args, kwargs)\n\u001b[1;32m--> 143\u001b[0m \u001b[39mreturn\u001b[39;00m concrete_function\u001b[39m.\u001b[39;49m_call_flat(\n\u001b[0;32m    144\u001b[0m     filtered_flat_args, captured_inputs\u001b[39m=\u001b[39;49mconcrete_function\u001b[39m.\u001b[39;49mcaptured_inputs)\n",
      "File \u001b[1;32mc:\\Users\\evedr\\AppData\\Local\\Programs\\Python\\Python311\\Lib\\site-packages\\tensorflow\\python\\eager\\polymorphic_function\\monomorphic_function.py:1757\u001b[0m, in \u001b[0;36mConcreteFunction._call_flat\u001b[1;34m(self, args, captured_inputs, cancellation_manager)\u001b[0m\n\u001b[0;32m   1753\u001b[0m possible_gradient_type \u001b[39m=\u001b[39m gradients_util\u001b[39m.\u001b[39mPossibleTapeGradientTypes(args)\n\u001b[0;32m   1754\u001b[0m \u001b[39mif\u001b[39;00m (possible_gradient_type \u001b[39m==\u001b[39m gradients_util\u001b[39m.\u001b[39mPOSSIBLE_GRADIENT_TYPES_NONE\n\u001b[0;32m   1755\u001b[0m     \u001b[39mand\u001b[39;00m executing_eagerly):\n\u001b[0;32m   1756\u001b[0m   \u001b[39m# No tape is watching; skip to running the function.\u001b[39;00m\n\u001b[1;32m-> 1757\u001b[0m   \u001b[39mreturn\u001b[39;00m \u001b[39mself\u001b[39m\u001b[39m.\u001b[39m_build_call_outputs(\u001b[39mself\u001b[39;49m\u001b[39m.\u001b[39;49m_inference_function\u001b[39m.\u001b[39;49mcall(\n\u001b[0;32m   1758\u001b[0m       ctx, args, cancellation_manager\u001b[39m=\u001b[39;49mcancellation_manager))\n\u001b[0;32m   1759\u001b[0m forward_backward \u001b[39m=\u001b[39m \u001b[39mself\u001b[39m\u001b[39m.\u001b[39m_select_forward_and_backward_functions(\n\u001b[0;32m   1760\u001b[0m     args,\n\u001b[0;32m   1761\u001b[0m     possible_gradient_type,\n\u001b[0;32m   1762\u001b[0m     executing_eagerly)\n\u001b[0;32m   1763\u001b[0m forward_function, args_with_tangents \u001b[39m=\u001b[39m forward_backward\u001b[39m.\u001b[39mforward()\n",
      "File \u001b[1;32mc:\\Users\\evedr\\AppData\\Local\\Programs\\Python\\Python311\\Lib\\site-packages\\tensorflow\\python\\eager\\polymorphic_function\\monomorphic_function.py:381\u001b[0m, in \u001b[0;36m_EagerDefinedFunction.call\u001b[1;34m(self, ctx, args, cancellation_manager)\u001b[0m\n\u001b[0;32m    379\u001b[0m \u001b[39mwith\u001b[39;00m _InterpolateFunctionError(\u001b[39mself\u001b[39m):\n\u001b[0;32m    380\u001b[0m   \u001b[39mif\u001b[39;00m cancellation_manager \u001b[39mis\u001b[39;00m \u001b[39mNone\u001b[39;00m:\n\u001b[1;32m--> 381\u001b[0m     outputs \u001b[39m=\u001b[39m execute\u001b[39m.\u001b[39;49mexecute(\n\u001b[0;32m    382\u001b[0m         \u001b[39mstr\u001b[39;49m(\u001b[39mself\u001b[39;49m\u001b[39m.\u001b[39;49msignature\u001b[39m.\u001b[39;49mname),\n\u001b[0;32m    383\u001b[0m         num_outputs\u001b[39m=\u001b[39;49m\u001b[39mself\u001b[39;49m\u001b[39m.\u001b[39;49m_num_outputs,\n\u001b[0;32m    384\u001b[0m         inputs\u001b[39m=\u001b[39;49margs,\n\u001b[0;32m    385\u001b[0m         attrs\u001b[39m=\u001b[39;49mattrs,\n\u001b[0;32m    386\u001b[0m         ctx\u001b[39m=\u001b[39;49mctx)\n\u001b[0;32m    387\u001b[0m   \u001b[39melse\u001b[39;00m:\n\u001b[0;32m    388\u001b[0m     outputs \u001b[39m=\u001b[39m execute\u001b[39m.\u001b[39mexecute_with_cancellation(\n\u001b[0;32m    389\u001b[0m         \u001b[39mstr\u001b[39m(\u001b[39mself\u001b[39m\u001b[39m.\u001b[39msignature\u001b[39m.\u001b[39mname),\n\u001b[0;32m    390\u001b[0m         num_outputs\u001b[39m=\u001b[39m\u001b[39mself\u001b[39m\u001b[39m.\u001b[39m_num_outputs,\n\u001b[1;32m   (...)\u001b[0m\n\u001b[0;32m    393\u001b[0m         ctx\u001b[39m=\u001b[39mctx,\n\u001b[0;32m    394\u001b[0m         cancellation_manager\u001b[39m=\u001b[39mcancellation_manager)\n",
      "File \u001b[1;32mc:\\Users\\evedr\\AppData\\Local\\Programs\\Python\\Python311\\Lib\\site-packages\\tensorflow\\python\\eager\\execute.py:52\u001b[0m, in \u001b[0;36mquick_execute\u001b[1;34m(op_name, num_outputs, inputs, attrs, ctx, name)\u001b[0m\n\u001b[0;32m     50\u001b[0m \u001b[39mtry\u001b[39;00m:\n\u001b[0;32m     51\u001b[0m   ctx\u001b[39m.\u001b[39mensure_initialized()\n\u001b[1;32m---> 52\u001b[0m   tensors \u001b[39m=\u001b[39m pywrap_tfe\u001b[39m.\u001b[39;49mTFE_Py_Execute(ctx\u001b[39m.\u001b[39;49m_handle, device_name, op_name,\n\u001b[0;32m     53\u001b[0m                                       inputs, attrs, num_outputs)\n\u001b[0;32m     54\u001b[0m \u001b[39mexcept\u001b[39;00m core\u001b[39m.\u001b[39m_NotOkStatusException \u001b[39mas\u001b[39;00m e:\n\u001b[0;32m     55\u001b[0m   \u001b[39mif\u001b[39;00m name \u001b[39mis\u001b[39;00m \u001b[39mnot\u001b[39;00m \u001b[39mNone\u001b[39;00m:\n",
      "\u001b[1;31mKeyboardInterrupt\u001b[0m: "
     ]
    }
   ],
   "source": [
    "from tensorflow.keras.models import Sequential\n",
    "from tensorflow.keras.layers import Dense, Dropout\n",
    "\n",
    "# define the DNN classifier model\n",
    "classifier = Sequential()\n",
    "classifier.add(Dense(2560, activation='relu', input_shape=(features.shape[1],)))\n",
    "classifier.add(Dense(1000, activation='relu'))\n",
    "classifier.add(Dense(1000, activation='relu'))\n",
    "classifier.add(Dense(1000, activation='relu'))\n",
    "classifier.add(Dense(46, activation='softmax'))\n",
    "\n",
    "# compile the model\n",
    "classifier.compile(optimizer='adam', loss='categorical_crossentropy', metrics=['accuracy'])\n",
    "\n",
    "history = classifier.fit(features, train_labels_onehot, batch_size=32, epochs=25)"
   ]
  },
  {
   "cell_type": "code",
   "execution_count": null,
   "metadata": {},
   "outputs": [],
   "source": [
    "# Preprocessing the test data for prediction and testing\n"
   ]
  },
  {
   "cell_type": "code",
   "execution_count": 24,
   "metadata": {},
   "outputs": [],
   "source": [
    "test_labels_int = label_encoder.fit_transform(test_labels)"
   ]
  },
  {
   "cell_type": "code",
   "execution_count": 25,
   "metadata": {},
   "outputs": [],
   "source": [
    "# Convert the integer labels to one-hot encoding\n",
    "test_labels_onehot = to_categorical(test_labels_int, num_classes=46)\n",
    "\n",
    "# Split the data into the five quadrants\n",
    "x_test_tl = test_images[:,:14,:14].reshape(-1, 14, 14, 1)\n",
    "x_test_tr = test_images[:,:14,14:].reshape(-1, 14, 14, 1)\n",
    "x_test_bl = test_images[:,14:,:14].reshape(-1, 14, 14, 1)\n",
    "x_test_br = test_images[:,14:,14:].reshape(-1, 14, 14, 1)\n",
    "x_test_c = test_images[:,7:21,7:21].reshape(-1, 14, 14, 1)"
   ]
  },
  {
   "cell_type": "code",
   "execution_count": 26,
   "metadata": {},
   "outputs": [
    {
     "name": "stdout",
     "output_type": "stream",
     "text": [
      "432/432 [==============================] - 1s 2ms/step\n",
      "432/432 [==============================] - 1s 1ms/step\n",
      "432/432 [==============================] - 1s 1ms/step\n",
      "432/432 [==============================] - 1s 1ms/step\n",
      "432/432 [==============================] - 1s 2ms/step\n"
     ]
    }
   ],
   "source": [
    "# extract features from the last dense layer for each quadrant\n",
    "tl_features_test = model_tl_features.predict(x_test_tl)\n",
    "tr_features_test = model_tr_features.predict(x_test_tr)\n",
    "bl_features_test = model_bl_features.predict(x_test_bl)\n",
    "br_features_test = model_br_features.predict(x_test_br)\n",
    "center_features_test = model_c_features.predict(x_test_c)\n",
    "\n",
    "# concatenate the features from all 5 quadrants into a single input\n",
    "features_test = np.concatenate((tl_features_test, tr_features_test, bl_features_test, br_features_test, center_features_test), axis=1)"
   ]
  },
  {
   "cell_type": "code",
   "execution_count": 29,
   "metadata": {},
   "outputs": [
    {
     "name": "stdout",
     "output_type": "stream",
     "text": [
      "(13800, 14, 14, 1)\n",
      "Model: \"model\"\n",
      "_________________________________________________________________\n",
      " Layer (type)                Output Shape              Param #   \n",
      "=================================================================\n",
      " conv2d_2_input (InputLayer)  [(None, 14, 14, 1)]      0         \n",
      "                                                                 \n",
      " conv2d_2 (Conv2D)           (None, 12, 12, 16)        160       \n",
      "                                                                 \n",
      " max_pooling2d_2 (MaxPooling  (None, 6, 6, 16)         0         \n",
      " 2D)                                                             \n",
      "                                                                 \n",
      " conv2d_3 (Conv2D)           (None, 4, 4, 32)          4640      \n",
      "                                                                 \n",
      " max_pooling2d_3 (MaxPooling  (None, 2, 2, 32)         0         \n",
      " 2D)                                                             \n",
      "                                                                 \n",
      " flatten_1 (Flatten)         (None, 128)               0         \n",
      "                                                                 \n",
      " dense_2 (Dense)             (None, 512)               66048     \n",
      "                                                                 \n",
      "=================================================================\n",
      "Total params: 70,848\n",
      "Trainable params: 70,848\n",
      "Non-trainable params: 0\n",
      "_________________________________________________________________\n",
      "None\n",
      "(13800, 512)\n",
      "(13800, 2560)\n"
     ]
    }
   ],
   "source": [
    "print(x_test_tl.shape)\n",
    "print(model_tl_features.summary())\n",
    "print(tl_features_test.shape)\n",
    "print(features_test.shape)"
   ]
  },
  {
   "cell_type": "code",
   "execution_count": 30,
   "metadata": {},
   "outputs": [],
   "source": [
    "# Save the model to disk\n",
    "classifier.save(\"model_withoutClassifier.h5\")\n"
   ]
  },
  {
   "cell_type": "code",
   "execution_count": 31,
   "metadata": {},
   "outputs": [
    {
     "name": "stdout",
     "output_type": "stream",
     "text": [
      "432/432 [==============================] - 6s 14ms/step\n"
     ]
    }
   ],
   "source": [
    "test_predictions = classifier.predict(features_test)"
   ]
  },
  {
   "cell_type": "code",
   "execution_count": 32,
   "metadata": {},
   "outputs": [
    {
     "name": "stdout",
     "output_type": "stream",
     "text": [
      "(13800, 46)\n"
     ]
    }
   ],
   "source": [
    "print(test_predictions.shape)"
   ]
  },
  {
   "cell_type": "code",
   "execution_count": 33,
   "metadata": {},
   "outputs": [
    {
     "name": "stdout",
     "output_type": "stream",
     "text": [
      "[1.0000000e+00 0.0000000e+00 1.9115751e-35 0.0000000e+00 0.0000000e+00\n",
      " 0.0000000e+00 1.1422714e-37 0.0000000e+00 1.6251486e-38 9.7758929e-36\n",
      " 4.4070102e-22 8.3260985e-25 1.5685674e-34 0.0000000e+00 2.1156157e-26\n",
      " 9.6954388e-16 1.6887329e-24 1.9885712e-22 0.0000000e+00 1.0552507e-25\n",
      " 1.3668585e-23 3.5237673e-27 0.0000000e+00 1.4989560e-32 3.3393136e-14\n",
      " 1.6191882e-32 6.8607016e-34 3.9242041e-17 4.6554575e-30 1.1954823e-32\n",
      " 1.9306418e-37 6.7904686e-37 9.8054533e-25 0.0000000e+00 9.3517824e-19\n",
      " 1.0580307e-27 0.0000000e+00 1.0342756e-33 4.0361801e-36 0.0000000e+00\n",
      " 1.9898864e-27 3.0982776e-33 0.0000000e+00 0.0000000e+00 0.0000000e+00\n",
      " 0.0000000e+00]\n"
     ]
    }
   ],
   "source": [
    "print(test_predictions[0])"
   ]
  },
  {
   "cell_type": "code",
   "execution_count": 34,
   "metadata": {},
   "outputs": [],
   "source": [
    "# Evaluate the model\n",
    "from sklearn.metrics import accuracy_score, precision_score, recall_score, f1_score\n",
    "accuracy = accuracy_score(test_labels_int, test_predictions.argmax(axis=1))\n",
    "# precision = precision_score(test_labels_int, test_predictions.argmax(axis=1), average='weighted', zero_division=1)\n",
    "recall = recall_score(test_labels_int, test_predictions.argmax(axis=1), average='weighted')\n",
    "f1 = f1_score(test_labels_int, test_predictions.argmax(axis=1), average='weighted')"
   ]
  },
  {
   "cell_type": "code",
   "execution_count": 35,
   "metadata": {},
   "outputs": [
    {
     "name": "stdout",
     "output_type": "stream",
     "text": [
      "Accuracy: 0.972536231884058\n",
      "Recall: 0.972536231884058\n",
      "F1 Score: 0.972556469928484\n"
     ]
    }
   ],
   "source": [
    "print('Accuracy:', accuracy)\n",
    "# print('Precision:', precision)\n",
    "print('Recall:', recall)\n",
    "print('F1 Score:', f1)"
   ]
  },
  {
   "cell_type": "code",
   "execution_count": null,
   "metadata": {},
   "outputs": [],
   "source": []
  }
 ],
 "metadata": {
  "kernelspec": {
   "display_name": "Python 3",
   "language": "python",
   "name": "python3"
  },
  "language_info": {
   "codemirror_mode": {
    "name": "ipython",
    "version": 3
   },
   "file_extension": ".py",
   "mimetype": "text/x-python",
   "name": "python",
   "nbconvert_exporter": "python",
   "pygments_lexer": "ipython3",
   "version": "3.11.2"
  },
  "orig_nbformat": 4
 },
 "nbformat": 4,
 "nbformat_minor": 2
}
