{
 "cells": [
  {
   "attachments": {},
   "cell_type": "markdown",
   "metadata": {},
   "source": [
    "# ANN Model"
   ]
  },
  {
   "cell_type": "code",
   "execution_count": 1,
   "metadata": {},
   "outputs": [],
   "source": [
    "# import required libraries\n",
    "import numpy as np\n",
    "import pandas as pd\n"
   ]
  },
  {
   "cell_type": "code",
   "execution_count": 2,
   "metadata": {},
   "outputs": [
    {
     "data": {
      "text/plain": [
       "(569, 33)"
      ]
     },
     "execution_count": 2,
     "metadata": {},
     "output_type": "execute_result"
    }
   ],
   "source": [
    "# load the dataset\n",
    "df = pd.read_csv('data.csv')\n",
    "df.shape"
   ]
  },
  {
   "cell_type": "code",
   "execution_count": 5,
   "metadata": {},
   "outputs": [
    {
     "name": "stdout",
     "output_type": "stream",
     "text": [
      "['id', 'diagnosis', 'radius_mean', 'texture_mean', 'perimeter_mean', 'area_mean', 'smoothness_mean', 'compactness_mean', 'concavity_mean', 'concave points_mean', 'symmetry_mean', 'fractal_dimension_mean', 'radius_se', 'texture_se', 'perimeter_se', 'area_se', 'smoothness_se', 'compactness_se', 'concavity_se', 'concave points_se', 'symmetry_se', 'fractal_dimension_se', 'radius_worst', 'texture_worst', 'perimeter_worst', 'area_worst', 'smoothness_worst', 'compactness_worst', 'concavity_worst', 'concave points_worst', 'symmetry_worst', 'fractal_dimension_worst', 'Unnamed: 32']\n",
      "id                           0\n",
      "diagnosis                    0\n",
      "radius_mean                  0\n",
      "texture_mean                 0\n",
      "perimeter_mean               0\n",
      "area_mean                    0\n",
      "smoothness_mean              0\n",
      "compactness_mean             0\n",
      "concavity_mean               0\n",
      "concave points_mean          0\n",
      "symmetry_mean                0\n",
      "fractal_dimension_mean       0\n",
      "radius_se                    0\n",
      "texture_se                   0\n",
      "perimeter_se                 0\n",
      "area_se                      0\n",
      "smoothness_se                0\n",
      "compactness_se               0\n",
      "concavity_se                 0\n",
      "concave points_se            0\n",
      "symmetry_se                  0\n",
      "fractal_dimension_se         0\n",
      "radius_worst                 0\n",
      "texture_worst                0\n",
      "perimeter_worst              0\n",
      "area_worst                   0\n",
      "smoothness_worst             0\n",
      "compactness_worst            0\n",
      "concavity_worst              0\n",
      "concave points_worst         0\n",
      "symmetry_worst               0\n",
      "fractal_dimension_worst      0\n",
      "Unnamed: 32                569\n",
      "dtype: int64\n"
     ]
    }
   ],
   "source": [
    "# explore the dataset\n",
    "print(df.columns.tolist())\n",
    "print(df.isnull().sum())"
   ]
  },
  {
   "cell_type": "code",
   "execution_count": 6,
   "metadata": {},
   "outputs": [],
   "source": [
    "# we will drop the 'unnamed:32' column as it has all the values as NaN\n",
    "df = df.drop('Unnamed: 32', axis=1)"
   ]
  },
  {
   "cell_type": "code",
   "execution_count": 8,
   "metadata": {},
   "outputs": [
    {
     "name": "stdout",
     "output_type": "stream",
     "text": [
      "id                         0\n",
      "diagnosis                  0\n",
      "radius_mean                0\n",
      "texture_mean               0\n",
      "perimeter_mean             0\n",
      "area_mean                  0\n",
      "smoothness_mean            0\n",
      "compactness_mean           0\n",
      "concavity_mean             0\n",
      "concave points_mean        0\n",
      "symmetry_mean              0\n",
      "fractal_dimension_mean     0\n",
      "radius_se                  0\n",
      "texture_se                 0\n",
      "perimeter_se               0\n",
      "area_se                    0\n",
      "smoothness_se              0\n",
      "compactness_se             0\n",
      "concavity_se               0\n",
      "concave points_se          0\n",
      "symmetry_se                0\n",
      "fractal_dimension_se       0\n",
      "radius_worst               0\n",
      "texture_worst              0\n",
      "perimeter_worst            0\n",
      "area_worst                 0\n",
      "smoothness_worst           0\n",
      "compactness_worst          0\n",
      "concavity_worst            0\n",
      "concave points_worst       0\n",
      "symmetry_worst             0\n",
      "fractal_dimension_worst    0\n",
      "dtype: int64\n",
      "(569, 32)\n"
     ]
    }
   ],
   "source": [
    "print(df.isnull().sum())\n",
    "print(df.shape)"
   ]
  },
  {
   "cell_type": "code",
   "execution_count": 9,
   "metadata": {},
   "outputs": [
    {
     "name": "stdout",
     "output_type": "stream",
     "text": [
      "           id diagnosis  radius_mean  texture_mean  perimeter_mean  area_mean  \\\n",
      "194  87556202         M        14.86         23.21          100.40      671.4   \n",
      "324  89511501         B        12.20         15.21           78.01      457.9   \n",
      "472    911384         B        14.92         14.93           96.45      686.9   \n",
      "499     91485         M        20.59         21.24          137.80     1320.0   \n",
      "232  88203002         B        11.22         33.81           70.79      386.8   \n",
      "\n",
      "     smoothness_mean  compactness_mean  concavity_mean  concave points_mean  \\\n",
      "194          0.10440           0.19800        0.169700             0.088780   \n",
      "324          0.08673           0.06545        0.019940             0.016920   \n",
      "472          0.08098           0.08549        0.055390             0.032210   \n",
      "499          0.10850           0.16440        0.218800             0.112100   \n",
      "232          0.07780           0.03574        0.004967             0.006434   \n",
      "\n",
      "     ...  radius_worst  texture_worst  perimeter_worst  area_worst  \\\n",
      "194  ...         16.08          27.78           118.60       784.7   \n",
      "324  ...         13.75          21.38            91.11       583.1   \n",
      "472  ...         17.18          18.22           112.00       906.6   \n",
      "499  ...         23.86          30.76           163.20      1760.0   \n",
      "232  ...         12.36          41.78            78.44       470.9   \n",
      "\n",
      "     smoothness_worst  compactness_worst  concavity_worst  \\\n",
      "194           0.13160            0.46480          0.45890   \n",
      "324           0.12560            0.19280          0.11670   \n",
      "472           0.10650            0.27910          0.31510   \n",
      "499           0.14640            0.35970          0.51790   \n",
      "232           0.09994            0.06885          0.02318   \n",
      "\n",
      "     concave points_worst  symmetry_worst  fractal_dimension_worst  \n",
      "194               0.17270          0.3000                  0.08701  \n",
      "324               0.05556          0.2661                  0.07961  \n",
      "472               0.11470          0.2688                  0.08273  \n",
      "499               0.21130          0.2480                  0.08999  \n",
      "232               0.03002          0.2911                  0.07307  \n",
      "\n",
      "[5 rows x 32 columns]\n"
     ]
    }
   ],
   "source": [
    "# now we will se a sample of the dataset\n",
    "print(df.sample(5))"
   ]
  },
  {
   "cell_type": "code",
   "execution_count": 10,
   "metadata": {},
   "outputs": [
    {
     "name": "stdout",
     "output_type": "stream",
     "text": [
      "['M' 'B']\n"
     ]
    }
   ],
   "source": [
    "# find the no. of unique 'diagnosis' values\n",
    "print(df['diagnosis'].unique())"
   ]
  },
  {
   "cell_type": "code",
   "execution_count": 11,
   "metadata": {},
   "outputs": [],
   "source": [
    "# convert the categorical data into numerical data\n",
    "df['diagnosis'] = df['diagnosis'].map({'M':1, 'B':0})"
   ]
  },
  {
   "cell_type": "code",
   "execution_count": 12,
   "metadata": {},
   "outputs": [
    {
     "name": "stdout",
     "output_type": "stream",
     "text": [
      "           id  diagnosis  radius_mean  texture_mean  perimeter_mean  \\\n",
      "228  88147202          0        12.62         23.97           81.35   \n",
      "164   8712289          1        23.27         22.04          152.10   \n",
      "172     87164          1        15.46         11.89          102.50   \n",
      "93     862009          0        13.45         18.30           86.60   \n",
      "296    891936          0        10.91         12.35           69.14   \n",
      "\n",
      "     area_mean  smoothness_mean  compactness_mean  concavity_mean  \\\n",
      "228      496.4          0.07903           0.07529         0.05438   \n",
      "164     1686.0          0.08439           0.11450         0.13240   \n",
      "172      736.9          0.12570           0.15550         0.20320   \n",
      "93       555.1          0.10220           0.08165         0.03974   \n",
      "296      363.7          0.08518           0.04721         0.01236   \n",
      "\n",
      "     concave points_mean  ...  radius_worst  texture_worst  perimeter_worst  \\\n",
      "228              0.02036  ...         14.20          31.31            90.67   \n",
      "164              0.09702  ...         28.01          28.22           184.20   \n",
      "172              0.10970  ...         18.79          17.04           125.00   \n",
      "93               0.02780  ...         15.10          25.94            97.59   \n",
      "296              0.01369  ...         11.37          14.82            72.42   \n",
      "\n",
      "     area_worst  smoothness_worst  compactness_worst  concavity_worst  \\\n",
      "228       624.0           0.12270            0.34540          0.39110   \n",
      "164      2403.0           0.12280            0.35830          0.39480   \n",
      "172      1102.0           0.15310            0.35830          0.58300   \n",
      "93        699.4           0.13390            0.17510          0.13810   \n",
      "296       392.2           0.09312            0.07506          0.02884   \n",
      "\n",
      "     concave points_worst  symmetry_worst  fractal_dimension_worst  \n",
      "228               0.11800          0.2826                  0.09585  \n",
      "164               0.23460          0.3589                  0.09187  \n",
      "172               0.18270          0.3216                  0.10100  \n",
      "93                0.07911          0.2678                  0.06603  \n",
      "296               0.03194          0.2143                  0.06643  \n",
      "\n",
      "[5 rows x 32 columns]\n"
     ]
    }
   ],
   "source": [
    "print(df.sample(5))"
   ]
  },
  {
   "cell_type": "code",
   "execution_count": 13,
   "metadata": {},
   "outputs": [],
   "source": [
    "# split the dataset into features and labels\n",
    "df_features = df.drop('diagnosis', axis=1)\n",
    "df_label = df['diagnosis']\n"
   ]
  },
  {
   "cell_type": "code",
   "execution_count": 14,
   "metadata": {},
   "outputs": [
    {
     "name": "stdout",
     "output_type": "stream",
     "text": [
      "(569, 31)\n",
      "(569,)\n"
     ]
    }
   ],
   "source": [
    "print(df_features.shape)\n",
    "print(df_label.shape)"
   ]
  },
  {
   "cell_type": "code",
   "execution_count": 36,
   "metadata": {},
   "outputs": [],
   "source": [
    "# split the dataset into training and testing data\n",
    "from sklearn.model_selection import train_test_split\n",
    "X_train, X_test, y_train, y_test = train_test_split(df_features, df_label, test_size=0.2, random_state=42)"
   ]
  },
  {
   "cell_type": "code",
   "execution_count": 37,
   "metadata": {},
   "outputs": [],
   "source": [
    "# standardize the data\n",
    "from sklearn.preprocessing import StandardScaler\n",
    "scaler = StandardScaler()\n",
    "X_train = scaler.fit_transform(X_train)\n",
    "X_test = scaler.transform(X_test)"
   ]
  },
  {
   "cell_type": "code",
   "execution_count": 38,
   "metadata": {},
   "outputs": [
    {
     "name": "stdout",
     "output_type": "stream",
     "text": [
      "Epoch 1/100\n",
      "1/1 [==============================] - 1s 622ms/step - loss: 0.2514 - accuracy: 0.3790 - val_loss: 0.2521 - val_accuracy: 0.3043\n",
      "Epoch 2/100\n",
      "1/1 [==============================] - 0s 112ms/step - loss: 0.2512 - accuracy: 0.3790 - val_loss: 0.2518 - val_accuracy: 0.3043\n",
      "Epoch 3/100\n",
      "1/1 [==============================] - 0s 68ms/step - loss: 0.2510 - accuracy: 0.3790 - val_loss: 0.2515 - val_accuracy: 0.3043\n",
      "Epoch 4/100\n",
      "1/1 [==============================] - 0s 50ms/step - loss: 0.2508 - accuracy: 0.3790 - val_loss: 0.2512 - val_accuracy: 0.3043\n",
      "Epoch 5/100\n",
      "1/1 [==============================] - 0s 54ms/step - loss: 0.2506 - accuracy: 0.3790 - val_loss: 0.2509 - val_accuracy: 0.3043\n",
      "Epoch 6/100\n",
      "1/1 [==============================] - 0s 55ms/step - loss: 0.2504 - accuracy: 0.3790 - val_loss: 0.2506 - val_accuracy: 0.3043\n",
      "Epoch 7/100\n",
      "1/1 [==============================] - 0s 55ms/step - loss: 0.2502 - accuracy: 0.3814 - val_loss: 0.2503 - val_accuracy: 0.3261\n",
      "Epoch 8/100\n",
      "1/1 [==============================] - 0s 60ms/step - loss: 0.2500 - accuracy: 0.3936 - val_loss: 0.2500 - val_accuracy: 0.3913\n",
      "Epoch 9/100\n",
      "1/1 [==============================] - 0s 54ms/step - loss: 0.2498 - accuracy: 0.4914 - val_loss: 0.2497 - val_accuracy: 0.7826\n",
      "Epoch 10/100\n",
      "1/1 [==============================] - 0s 59ms/step - loss: 0.2497 - accuracy: 0.7213 - val_loss: 0.2494 - val_accuracy: 0.7391\n",
      "Epoch 11/100\n",
      "1/1 [==============================] - 0s 56ms/step - loss: 0.2495 - accuracy: 0.6944 - val_loss: 0.2491 - val_accuracy: 0.6957\n",
      "Epoch 12/100\n",
      "1/1 [==============================] - 0s 59ms/step - loss: 0.2493 - accuracy: 0.6406 - val_loss: 0.2489 - val_accuracy: 0.6957\n",
      "Epoch 13/100\n",
      "1/1 [==============================] - 0s 66ms/step - loss: 0.2491 - accuracy: 0.6210 - val_loss: 0.2486 - val_accuracy: 0.6957\n",
      "Epoch 14/100\n",
      "1/1 [==============================] - 0s 62ms/step - loss: 0.2490 - accuracy: 0.6210 - val_loss: 0.2483 - val_accuracy: 0.6957\n",
      "Epoch 15/100\n",
      "1/1 [==============================] - 0s 52ms/step - loss: 0.2488 - accuracy: 0.6210 - val_loss: 0.2481 - val_accuracy: 0.6957\n",
      "Epoch 16/100\n",
      "1/1 [==============================] - 0s 62ms/step - loss: 0.2486 - accuracy: 0.6210 - val_loss: 0.2478 - val_accuracy: 0.6957\n",
      "Epoch 17/100\n",
      "1/1 [==============================] - 0s 51ms/step - loss: 0.2485 - accuracy: 0.6210 - val_loss: 0.2475 - val_accuracy: 0.6957\n",
      "Epoch 18/100\n",
      "1/1 [==============================] - 0s 45ms/step - loss: 0.2483 - accuracy: 0.6210 - val_loss: 0.2473 - val_accuracy: 0.6957\n",
      "Epoch 19/100\n",
      "1/1 [==============================] - 0s 53ms/step - loss: 0.2482 - accuracy: 0.6210 - val_loss: 0.2470 - val_accuracy: 0.6957\n",
      "Epoch 20/100\n",
      "1/1 [==============================] - 0s 49ms/step - loss: 0.2480 - accuracy: 0.6210 - val_loss: 0.2467 - val_accuracy: 0.6957\n",
      "Epoch 21/100\n",
      "1/1 [==============================] - 0s 53ms/step - loss: 0.2478 - accuracy: 0.6210 - val_loss: 0.2465 - val_accuracy: 0.6957\n",
      "Epoch 22/100\n",
      "1/1 [==============================] - 0s 45ms/step - loss: 0.2477 - accuracy: 0.6210 - val_loss: 0.2462 - val_accuracy: 0.6957\n",
      "Epoch 23/100\n",
      "1/1 [==============================] - 0s 52ms/step - loss: 0.2475 - accuracy: 0.6210 - val_loss: 0.2460 - val_accuracy: 0.6957\n",
      "Epoch 24/100\n",
      "1/1 [==============================] - 0s 45ms/step - loss: 0.2474 - accuracy: 0.6210 - val_loss: 0.2457 - val_accuracy: 0.6957\n",
      "Epoch 25/100\n",
      "1/1 [==============================] - 0s 51ms/step - loss: 0.2472 - accuracy: 0.6210 - val_loss: 0.2455 - val_accuracy: 0.6957\n",
      "Epoch 26/100\n",
      "1/1 [==============================] - 0s 44ms/step - loss: 0.2471 - accuracy: 0.6210 - val_loss: 0.2452 - val_accuracy: 0.6957\n",
      "Epoch 27/100\n",
      "1/1 [==============================] - 0s 48ms/step - loss: 0.2469 - accuracy: 0.6210 - val_loss: 0.2450 - val_accuracy: 0.6957\n",
      "Epoch 28/100\n",
      "1/1 [==============================] - 0s 56ms/step - loss: 0.2468 - accuracy: 0.6210 - val_loss: 0.2448 - val_accuracy: 0.6957\n",
      "Epoch 29/100\n",
      "1/1 [==============================] - 0s 48ms/step - loss: 0.2466 - accuracy: 0.6210 - val_loss: 0.2445 - val_accuracy: 0.6957\n",
      "Epoch 30/100\n",
      "1/1 [==============================] - 0s 47ms/step - loss: 0.2465 - accuracy: 0.6210 - val_loss: 0.2443 - val_accuracy: 0.6957\n",
      "Epoch 31/100\n",
      "1/1 [==============================] - 0s 45ms/step - loss: 0.2464 - accuracy: 0.6210 - val_loss: 0.2441 - val_accuracy: 0.6957\n",
      "Epoch 32/100\n",
      "1/1 [==============================] - 0s 49ms/step - loss: 0.2462 - accuracy: 0.6210 - val_loss: 0.2438 - val_accuracy: 0.6957\n",
      "Epoch 33/100\n",
      "1/1 [==============================] - 0s 47ms/step - loss: 0.2461 - accuracy: 0.6210 - val_loss: 0.2436 - val_accuracy: 0.6957\n",
      "Epoch 34/100\n",
      "1/1 [==============================] - 0s 44ms/step - loss: 0.2460 - accuracy: 0.6210 - val_loss: 0.2434 - val_accuracy: 0.6957\n",
      "Epoch 35/100\n",
      "1/1 [==============================] - 0s 47ms/step - loss: 0.2458 - accuracy: 0.6210 - val_loss: 0.2432 - val_accuracy: 0.6957\n",
      "Epoch 36/100\n",
      "1/1 [==============================] - 0s 48ms/step - loss: 0.2457 - accuracy: 0.6210 - val_loss: 0.2429 - val_accuracy: 0.6957\n",
      "Epoch 37/100\n",
      "1/1 [==============================] - 0s 39ms/step - loss: 0.2456 - accuracy: 0.6210 - val_loss: 0.2427 - val_accuracy: 0.6957\n",
      "Epoch 38/100\n",
      "1/1 [==============================] - 0s 45ms/step - loss: 0.2454 - accuracy: 0.6210 - val_loss: 0.2425 - val_accuracy: 0.6957\n",
      "Epoch 39/100\n",
      "1/1 [==============================] - 0s 50ms/step - loss: 0.2453 - accuracy: 0.6210 - val_loss: 0.2423 - val_accuracy: 0.6957\n",
      "Epoch 40/100\n",
      "1/1 [==============================] - 0s 41ms/step - loss: 0.2452 - accuracy: 0.6210 - val_loss: 0.2421 - val_accuracy: 0.6957\n",
      "Epoch 41/100\n",
      "1/1 [==============================] - 0s 41ms/step - loss: 0.2451 - accuracy: 0.6210 - val_loss: 0.2419 - val_accuracy: 0.6957\n",
      "Epoch 42/100\n",
      "1/1 [==============================] - 0s 41ms/step - loss: 0.2449 - accuracy: 0.6210 - val_loss: 0.2416 - val_accuracy: 0.6957\n",
      "Epoch 43/100\n",
      "1/1 [==============================] - 0s 45ms/step - loss: 0.2448 - accuracy: 0.6210 - val_loss: 0.2414 - val_accuracy: 0.6957\n",
      "Epoch 44/100\n",
      "1/1 [==============================] - 0s 47ms/step - loss: 0.2447 - accuracy: 0.6210 - val_loss: 0.2412 - val_accuracy: 0.6957\n",
      "Epoch 45/100\n",
      "1/1 [==============================] - 0s 49ms/step - loss: 0.2446 - accuracy: 0.6210 - val_loss: 0.2410 - val_accuracy: 0.6957\n",
      "Epoch 46/100\n",
      "1/1 [==============================] - 0s 44ms/step - loss: 0.2444 - accuracy: 0.6210 - val_loss: 0.2408 - val_accuracy: 0.6957\n",
      "Epoch 47/100\n",
      "1/1 [==============================] - 0s 42ms/step - loss: 0.2443 - accuracy: 0.6210 - val_loss: 0.2406 - val_accuracy: 0.6957\n",
      "Epoch 48/100\n",
      "1/1 [==============================] - 0s 41ms/step - loss: 0.2442 - accuracy: 0.6210 - val_loss: 0.2404 - val_accuracy: 0.6957\n",
      "Epoch 49/100\n",
      "1/1 [==============================] - 0s 43ms/step - loss: 0.2441 - accuracy: 0.6210 - val_loss: 0.2402 - val_accuracy: 0.6957\n",
      "Epoch 50/100\n",
      "1/1 [==============================] - 0s 43ms/step - loss: 0.2440 - accuracy: 0.6210 - val_loss: 0.2400 - val_accuracy: 0.6957\n",
      "Epoch 51/100\n",
      "1/1 [==============================] - 0s 40ms/step - loss: 0.2439 - accuracy: 0.6210 - val_loss: 0.2398 - val_accuracy: 0.6957\n",
      "Epoch 52/100\n",
      "1/1 [==============================] - 0s 45ms/step - loss: 0.2438 - accuracy: 0.6210 - val_loss: 0.2397 - val_accuracy: 0.6957\n",
      "Epoch 53/100\n",
      "1/1 [==============================] - 0s 46ms/step - loss: 0.2437 - accuracy: 0.6210 - val_loss: 0.2395 - val_accuracy: 0.6957\n",
      "Epoch 54/100\n",
      "1/1 [==============================] - 0s 44ms/step - loss: 0.2436 - accuracy: 0.6210 - val_loss: 0.2393 - val_accuracy: 0.6957\n",
      "Epoch 55/100\n",
      "1/1 [==============================] - 0s 50ms/step - loss: 0.2434 - accuracy: 0.6210 - val_loss: 0.2391 - val_accuracy: 0.6957\n",
      "Epoch 56/100\n",
      "1/1 [==============================] - 0s 57ms/step - loss: 0.2433 - accuracy: 0.6210 - val_loss: 0.2389 - val_accuracy: 0.6957\n",
      "Epoch 57/100\n",
      "1/1 [==============================] - 0s 52ms/step - loss: 0.2432 - accuracy: 0.6210 - val_loss: 0.2387 - val_accuracy: 0.6957\n",
      "Epoch 58/100\n",
      "1/1 [==============================] - 0s 43ms/step - loss: 0.2431 - accuracy: 0.6210 - val_loss: 0.2385 - val_accuracy: 0.6957\n",
      "Epoch 59/100\n",
      "1/1 [==============================] - 0s 47ms/step - loss: 0.2430 - accuracy: 0.6210 - val_loss: 0.2384 - val_accuracy: 0.6957\n",
      "Epoch 60/100\n",
      "1/1 [==============================] - 0s 44ms/step - loss: 0.2429 - accuracy: 0.6210 - val_loss: 0.2382 - val_accuracy: 0.6957\n",
      "Epoch 61/100\n",
      "1/1 [==============================] - 0s 45ms/step - loss: 0.2428 - accuracy: 0.6210 - val_loss: 0.2380 - val_accuracy: 0.6957\n",
      "Epoch 62/100\n",
      "1/1 [==============================] - 0s 41ms/step - loss: 0.2427 - accuracy: 0.6210 - val_loss: 0.2378 - val_accuracy: 0.6957\n",
      "Epoch 63/100\n",
      "1/1 [==============================] - 0s 48ms/step - loss: 0.2426 - accuracy: 0.6210 - val_loss: 0.2377 - val_accuracy: 0.6957\n",
      "Epoch 64/100\n",
      "1/1 [==============================] - 0s 46ms/step - loss: 0.2425 - accuracy: 0.6210 - val_loss: 0.2375 - val_accuracy: 0.6957\n",
      "Epoch 65/100\n",
      "1/1 [==============================] - 0s 45ms/step - loss: 0.2424 - accuracy: 0.6210 - val_loss: 0.2373 - val_accuracy: 0.6957\n",
      "Epoch 66/100\n",
      "1/1 [==============================] - 0s 53ms/step - loss: 0.2424 - accuracy: 0.6210 - val_loss: 0.2371 - val_accuracy: 0.6957\n",
      "Epoch 67/100\n",
      "1/1 [==============================] - 0s 41ms/step - loss: 0.2423 - accuracy: 0.6210 - val_loss: 0.2370 - val_accuracy: 0.6957\n",
      "Epoch 68/100\n",
      "1/1 [==============================] - 0s 44ms/step - loss: 0.2422 - accuracy: 0.6210 - val_loss: 0.2368 - val_accuracy: 0.6957\n",
      "Epoch 69/100\n",
      "1/1 [==============================] - 0s 45ms/step - loss: 0.2421 - accuracy: 0.6210 - val_loss: 0.2366 - val_accuracy: 0.6957\n",
      "Epoch 70/100\n",
      "1/1 [==============================] - 0s 47ms/step - loss: 0.2420 - accuracy: 0.6210 - val_loss: 0.2365 - val_accuracy: 0.6957\n",
      "Epoch 71/100\n",
      "1/1 [==============================] - 0s 44ms/step - loss: 0.2419 - accuracy: 0.6210 - val_loss: 0.2363 - val_accuracy: 0.6957\n",
      "Epoch 72/100\n",
      "1/1 [==============================] - 0s 41ms/step - loss: 0.2418 - accuracy: 0.6210 - val_loss: 0.2362 - val_accuracy: 0.6957\n",
      "Epoch 73/100\n",
      "1/1 [==============================] - 0s 46ms/step - loss: 0.2417 - accuracy: 0.6210 - val_loss: 0.2360 - val_accuracy: 0.6957\n",
      "Epoch 74/100\n",
      "1/1 [==============================] - 0s 44ms/step - loss: 0.2416 - accuracy: 0.6210 - val_loss: 0.2358 - val_accuracy: 0.6957\n",
      "Epoch 75/100\n",
      "1/1 [==============================] - 0s 42ms/step - loss: 0.2415 - accuracy: 0.6210 - val_loss: 0.2357 - val_accuracy: 0.6957\n",
      "Epoch 76/100\n",
      "1/1 [==============================] - 0s 40ms/step - loss: 0.2415 - accuracy: 0.6210 - val_loss: 0.2355 - val_accuracy: 0.6957\n",
      "Epoch 77/100\n",
      "1/1 [==============================] - 0s 44ms/step - loss: 0.2414 - accuracy: 0.6210 - val_loss: 0.2354 - val_accuracy: 0.6957\n",
      "Epoch 78/100\n",
      "1/1 [==============================] - 0s 54ms/step - loss: 0.2413 - accuracy: 0.6210 - val_loss: 0.2352 - val_accuracy: 0.6957\n",
      "Epoch 79/100\n",
      "1/1 [==============================] - 0s 40ms/step - loss: 0.2412 - accuracy: 0.6210 - val_loss: 0.2351 - val_accuracy: 0.6957\n",
      "Epoch 80/100\n",
      "1/1 [==============================] - 0s 97ms/step - loss: 0.2411 - accuracy: 0.6210 - val_loss: 0.2349 - val_accuracy: 0.6957\n",
      "Epoch 81/100\n",
      "1/1 [==============================] - 0s 50ms/step - loss: 0.2411 - accuracy: 0.6210 - val_loss: 0.2348 - val_accuracy: 0.6957\n",
      "Epoch 82/100\n",
      "1/1 [==============================] - 0s 50ms/step - loss: 0.2410 - accuracy: 0.6210 - val_loss: 0.2346 - val_accuracy: 0.6957\n",
      "Epoch 83/100\n",
      "1/1 [==============================] - 0s 54ms/step - loss: 0.2409 - accuracy: 0.6210 - val_loss: 0.2345 - val_accuracy: 0.6957\n",
      "Epoch 84/100\n",
      "1/1 [==============================] - 0s 66ms/step - loss: 0.2408 - accuracy: 0.6210 - val_loss: 0.2343 - val_accuracy: 0.6957\n",
      "Epoch 85/100\n",
      "1/1 [==============================] - 0s 58ms/step - loss: 0.2407 - accuracy: 0.6210 - val_loss: 0.2342 - val_accuracy: 0.6957\n",
      "Epoch 86/100\n",
      "1/1 [==============================] - 0s 51ms/step - loss: 0.2407 - accuracy: 0.6210 - val_loss: 0.2341 - val_accuracy: 0.6957\n",
      "Epoch 87/100\n",
      "1/1 [==============================] - 0s 49ms/step - loss: 0.2406 - accuracy: 0.6210 - val_loss: 0.2339 - val_accuracy: 0.6957\n",
      "Epoch 88/100\n",
      "1/1 [==============================] - 0s 46ms/step - loss: 0.2405 - accuracy: 0.6210 - val_loss: 0.2338 - val_accuracy: 0.6957\n",
      "Epoch 89/100\n",
      "1/1 [==============================] - 0s 42ms/step - loss: 0.2404 - accuracy: 0.6210 - val_loss: 0.2336 - val_accuracy: 0.6957\n",
      "Epoch 90/100\n",
      "1/1 [==============================] - 0s 42ms/step - loss: 0.2404 - accuracy: 0.6210 - val_loss: 0.2335 - val_accuracy: 0.6957\n",
      "Epoch 91/100\n",
      "1/1 [==============================] - 0s 48ms/step - loss: 0.2403 - accuracy: 0.6210 - val_loss: 0.2334 - val_accuracy: 0.6957\n",
      "Epoch 92/100\n",
      "1/1 [==============================] - 0s 46ms/step - loss: 0.2402 - accuracy: 0.6210 - val_loss: 0.2332 - val_accuracy: 0.6957\n",
      "Epoch 93/100\n",
      "1/1 [==============================] - 0s 56ms/step - loss: 0.2402 - accuracy: 0.6210 - val_loss: 0.2331 - val_accuracy: 0.6957\n",
      "Epoch 94/100\n",
      "1/1 [==============================] - 0s 42ms/step - loss: 0.2401 - accuracy: 0.6210 - val_loss: 0.2330 - val_accuracy: 0.6957\n",
      "Epoch 95/100\n",
      "1/1 [==============================] - 0s 43ms/step - loss: 0.2400 - accuracy: 0.6210 - val_loss: 0.2328 - val_accuracy: 0.6957\n",
      "Epoch 96/100\n",
      "1/1 [==============================] - 0s 46ms/step - loss: 0.2399 - accuracy: 0.6210 - val_loss: 0.2327 - val_accuracy: 0.6957\n",
      "Epoch 97/100\n",
      "1/1 [==============================] - 0s 49ms/step - loss: 0.2399 - accuracy: 0.6210 - val_loss: 0.2326 - val_accuracy: 0.6957\n",
      "Epoch 98/100\n",
      "1/1 [==============================] - 0s 44ms/step - loss: 0.2398 - accuracy: 0.6210 - val_loss: 0.2324 - val_accuracy: 0.6957\n",
      "Epoch 99/100\n",
      "1/1 [==============================] - 0s 44ms/step - loss: 0.2397 - accuracy: 0.6210 - val_loss: 0.2323 - val_accuracy: 0.6957\n",
      "Epoch 100/100\n",
      "1/1 [==============================] - 0s 42ms/step - loss: 0.2397 - accuracy: 0.6210 - val_loss: 0.2322 - val_accuracy: 0.6957\n"
     ]
    }
   ],
   "source": [
    "# Now we will define the ANN architecture\n",
    "import keras\n",
    "from keras.models import Sequential\n",
    "from keras.layers import Dense\n",
    "# there will be input layer which takes 31 input features, one hidden layer with 15 neurons and one output layer with 1 neuron\n",
    "classifier = Sequential()\n",
    "classifier.add(Dense(units=15, kernel_initializer='uniform', activation='sigmoid', input_dim=31))\n",
    "classifier.add(Dense(units=1, kernel_initializer='uniform', activation='sigmoid'))\n",
    "# use gradient descent for optimzation and mean squared error as loss function\n",
    "classifier.compile(optimizer='sgd', loss='mse', metrics=['accuracy'])\n",
    "# train the model with 100 epochs and use whole dataset for each epoch\n",
    "train_hist = classifier.fit(X_train, y_train, batch_size=len(X_train), epochs=100, validation_split=0.1)\n"
   ]
  },
  {
   "cell_type": "code",
   "execution_count": 39,
   "metadata": {},
   "outputs": [
    {
     "name": "stdout",
     "output_type": "stream",
     "text": [
      "4/4 [==============================] - 0s 1ms/step\n",
      "Accuracy: 0.6228070175438597\n"
     ]
    }
   ],
   "source": [
    "# evaluate on test data and present the results\n",
    "import matplotlib.pyplot as plt\n",
    "from sklearn.metrics import accuracy_score, confusion_matrix\n",
    "\n",
    "# predict on test data\n",
    "y_pred_prob = classifier.predict(X_test)\n",
    "# Convert probabilities to binary classes using a threshold\n",
    "y_pred = (y_pred_prob > 0.5).astype(int)  # Use 0.5 as threshold for binary classification\n",
    "# Calculate accuracy\n",
    "accuracy = np.mean(y_pred.ravel() == y_test.ravel())  # assuming y_test contains true labels\n",
    "# Print accuracy\n",
    "print(\"Accuracy:\", accuracy)\n"
   ]
  },
  {
   "cell_type": "code",
   "execution_count": 43,
   "metadata": {},
   "outputs": [
    {
     "data": {
      "image/png": "[encoded data removed]",
      "text/plain": [
       "<Figure size 640x480 with 2 Axes>"
      ]
     },
     "metadata": {},
     "output_type": "display_data"
    }
   ],
   "source": [
    "# confusion matrix\n",
    "cm = confusion_matrix(y_test, y_pred)\n",
    "# print(\"Confusion Matrix:\")\n",
    "# print(cm)\n",
    "plt.imshow(cm, interpolation='nearest', cmap=plt.cm.Blues)\n",
    "plt.colorbar()\n",
    "plt.title(\"Confusion Matrix\")\n",
    "plt.xticks(ticks=[0, 1], labels=['Predicted 0', 'Predicted 1'])\n",
    "plt.yticks(ticks=[0, 1], labels=['True 0', 'True 1'])\n",
    "plt.xlabel(\"Predicted Label\")\n",
    "plt.ylabel(\"True Label\")\n",
    "\n",
    "# Add count of predictions in each category to the plot\n",
    "for i in range(2):\n",
    "    for j in range(2):\n",
    "        plt.text(j, i, str(cm[i][j]), ha='center', va='center', color='black')\n",
    "\n",
    "plt.show()"
   ]
  },
  {
   "cell_type": "code",
   "execution_count": 44,
   "metadata": {},
   "outputs": [
    {
     "data": {
      "image/png": "[encoded data removed]",
      "text/plain": [
       "<Figure size 640x480 with 1 Axes>"
      ]
     },
     "metadata": {},
     "output_type": "display_data"
    }
   ],
   "source": [
    "# convergence plot\n",
    "import matplotlib.pyplot as plt\n",
    "plt.plot(train_hist.history['accuracy'])\n",
    "plt.plot(train_hist.history['val_accuracy'])\n",
    "plt.title('Model Convergence')\n",
    "plt.xlabel('Epoch')\n",
    "plt.ylabel('Accuracy')\n",
    "plt.legend(['Train', 'Validation'], loc='upper left')\n",
    "plt.show()"
   ]
  },
  {
   "attachments": {},
   "cell_type": "markdown",
   "metadata": {},
   "source": [
    "KNN can also be used to build a classifier for the above problem.\n",
    "For KNN, we can use k=3 and the distance metric can be Euclidean distance."
   ]
  },
  {
   "attachments": {},
   "cell_type": "markdown",
   "metadata": {},
   "source": [
    "# KNN Model"
   ]
  },
  {
   "cell_type": "code",
   "execution_count": 45,
   "metadata": {},
   "outputs": [],
   "source": [
    "# import the requrired libraries\n",
    "from sklearn.neighbors import KNeighborsClassifier\n",
    "from sklearn.metrics import accuracy_score, precision_score, recall_score, f1_score"
   ]
  },
  {
   "cell_type": "code",
   "execution_count": 46,
   "metadata": {},
   "outputs": [],
   "source": [
    "# define the model\n",
    "k = 3 # number of neighbors\n",
    "knn = KNeighborsClassifier(n_neighbors=k, metric='euclidean')"
   ]
  },
  {
   "cell_type": "code",
   "execution_count": 47,
   "metadata": {},
   "outputs": [
    {
     "data": {
      "text/html": [
       "<style>#sk-container-id-2 {color: black;background-color: white;}#sk-container-id-2 pre{padding: 0;}#sk-container-id-2 div.sk-toggleable {background-color: white;}#sk-container-id-2 label.sk-toggleable__label {cursor: pointer;display: block;width: 100%;margin-bottom: 0;padding: 0.3em;box-sizing: border-box;text-align: center;}#sk-container-id-2 label.sk-toggleable__label-arrow:before {content: \"▸\";float: left;margin-right: 0.25em;color: #696969;}#sk-container-id-2 label.sk-toggleable__label-arrow:hover:before {color: black;}#sk-container-id-2 div.sk-estimator:hover label.sk-toggleable__label-arrow:before {color: black;}#sk-container-id-2 div.sk-toggleable__content {max-height: 0;max-width: 0;overflow: hidden;text-align: left;background-color: #f0f8ff;}#sk-container-id-2 div.sk-toggleable__content pre {margin: 0.2em;color: black;border-radius: 0.25em;background-color: #f0f8ff;}#sk-container-id-2 input.sk-toggleable__control:checked~div.sk-toggleable__content {max-height: 200px;max-width: 100%;overflow: auto;}#sk-container-id-2 input.sk-toggleable__control:checked~label.sk-toggleable__label-arrow:before {content: \"▾\";}#sk-container-id-2 div.sk-estimator input.sk-toggleable__control:checked~label.sk-toggleable__label {background-color: #d4ebff;}#sk-container-id-2 div.sk-label input.sk-toggleable__control:checked~label.sk-toggleable__label {background-color: #d4ebff;}#sk-container-id-2 input.sk-hidden--visually {border: 0;clip: rect(1px 1px 1px 1px);clip: rect(1px, 1px, 1px, 1px);height: 1px;margin: -1px;overflow: hidden;padding: 0;position: absolute;width: 1px;}#sk-container-id-2 div.sk-estimator {font-family: monospace;background-color: #f0f8ff;border: 1px dotted black;border-radius: 0.25em;box-sizing: border-box;margin-bottom: 0.5em;}#sk-container-id-2 div.sk-estimator:hover {background-color: #d4ebff;}#sk-container-id-2 div.sk-parallel-item::after {content: \"\";width: 100%;border-bottom: 1px solid gray;flex-grow: 1;}#sk-container-id-2 div.sk-label:hover label.sk-toggleable__label {background-color: #d4ebff;}#sk-container-id-2 div.sk-serial::before {content: \"\";position: absolute;border-left: 1px solid gray;box-sizing: border-box;top: 0;bottom: 0;left: 50%;z-index: 0;}#sk-container-id-2 div.sk-serial {display: flex;flex-direction: column;align-items: center;background-color: white;padding-right: 0.2em;padding-left: 0.2em;position: relative;}#sk-container-id-2 div.sk-item {position: relative;z-index: 1;}#sk-container-id-2 div.sk-parallel {display: flex;align-items: stretch;justify-content: center;background-color: white;position: relative;}#sk-container-id-2 div.sk-item::before, #sk-container-id-2 div.sk-parallel-item::before {content: \"\";position: absolute;border-left: 1px solid gray;box-sizing: border-box;top: 0;bottom: 0;left: 50%;z-index: -1;}#sk-container-id-2 div.sk-parallel-item {display: flex;flex-direction: column;z-index: 1;position: relative;background-color: white;}#sk-container-id-2 div.sk-parallel-item:first-child::after {align-self: flex-end;width: 50%;}#sk-container-id-2 div.sk-parallel-item:last-child::after {align-self: flex-start;width: 50%;}#sk-container-id-2 div.sk-parallel-item:only-child::after {width: 0;}#sk-container-id-2 div.sk-dashed-wrapped {border: 1px dashed gray;margin: 0 0.4em 0.5em 0.4em;box-sizing: border-box;padding-bottom: 0.4em;background-color: white;}#sk-container-id-2 div.sk-label label {font-family: monospace;font-weight: bold;display: inline-block;line-height: 1.2em;}#sk-container-id-2 div.sk-label-container {text-align: center;}#sk-container-id-2 div.sk-container {/* jupyter's `normalize.less` sets `[hidden] { display: none; }` but bootstrap.min.css set `[hidden] { display: none !important; }` so we also need the `!important` here to be able to override the default hidden behavior on the sphinx rendered scikit-learn.org. See: https://github.com/scikit-learn/scikit-learn/issues/21755 */display: inline-block !important;position: relative;}#sk-container-id-2 div.sk-text-repr-fallback {display: none;}</style><div id=\"sk-container-id-2\" class=\"sk-top-container\"><div class=\"sk-text-repr-fallback\"><pre>KNeighborsClassifier(metric=&#x27;euclidean&#x27;, n_neighbors=3)</pre><b>In a Jupyter environment, please rerun this cell to show the HTML representation or trust the notebook. <br />On GitHub, the HTML representation is unable to render, please try loading this page with nbviewer.org.</b></div><div class=\"sk-container\" hidden><div class=\"sk-item\"><div class=\"sk-estimator sk-toggleable\"><input class=\"sk-toggleable__control sk-hidden--visually\" id=\"sk-estimator-id-2\" type=\"checkbox\" checked><label for=\"sk-estimator-id-2\" class=\"sk-toggleable__label sk-toggleable__label-arrow\">KNeighborsClassifier</label><div class=\"sk-toggleable__content\"><pre>KNeighborsClassifier(metric=&#x27;euclidean&#x27;, n_neighbors=3)</pre></div></div></div></div></div>"
      ],
      "text/plain": [
       "KNeighborsClassifier(metric='euclidean', n_neighbors=3)"
      ]
     },
     "execution_count": 47,
     "metadata": {},
     "output_type": "execute_result"
    }
   ],
   "source": [
    "# now train and fit the model\n",
    "knn.fit(X_train, y_train)"
   ]
  },
  {
   "cell_type": "code",
   "execution_count": 48,
   "metadata": {},
   "outputs": [],
   "source": [
    "# now predict labels for test data and evaluate the model\n",
    "y_pred = knn.predict(X_test)"
   ]
  },
  {
   "cell_type": "code",
   "execution_count": 49,
   "metadata": {},
   "outputs": [
    {
     "data": {
      "image/png": "[encoded data removed]",
      "text/plain": [
       "<Figure size 640x480 with 2 Axes>"
      ]
     },
     "metadata": {},
     "output_type": "display_data"
    }
   ],
   "source": [
    "# display confusion matrix\n",
    "cm = confusion_matrix(y_test, y_pred)\n",
    "plt.imshow(cm, interpolation='nearest', cmap=plt.cm.Blues)\n",
    "plt.colorbar()\n",
    "plt.title(\"Confusion Matrix\")\n",
    "plt.xticks(ticks=[0, 1], labels=['Predicted 0', 'Predicted 1'])\n",
    "plt.yticks(ticks=[0, 1], labels=['True 0', 'True 1'])\n",
    "plt.xlabel(\"Predicted Label\")\n",
    "plt.ylabel(\"True Label\")\n",
    "\n",
    "# Add count of predictions in each category to the plot\n",
    "for i in range(2):\n",
    "    for j in range(2):\n",
    "        plt.text(j, i, str(cm[i][j]), ha='center', va='center', color='black')\n",
    "\n",
    "plt.show()"
   ]
  },
  {
   "cell_type": "code",
   "execution_count": 50,
   "metadata": {},
   "outputs": [
    {
     "name": "stdout",
     "output_type": "stream",
     "text": [
      "Accuracy: 0.9473684210526315\n",
      "Precision: 0.9302325581395349\n",
      "Recall: 0.9302325581395349\n",
      "F1-score: 0.9302325581395349\n"
     ]
    }
   ],
   "source": [
    "# other evaluation metrices\n",
    "accuracy = accuracy_score(y_test, y_pred)\n",
    "precision = precision_score(y_test, y_pred)\n",
    "recall = recall_score(y_test, y_pred)\n",
    "f1 = f1_score(y_test, y_pred)\n",
    "print(\"Accuracy:\", accuracy)\n",
    "print(\"Precision:\", precision)\n",
    "print(\"Recall:\", recall)\n",
    "print(\"F1-score:\", f1)"
   ]
  },
  {
   "attachments": {},
   "cell_type": "markdown",
   "metadata": {},
   "source": [
    "# Comparison of ANN and KNN"
   ]
  },
  {
   "attachments": {},
   "cell_type": "markdown",
   "metadata": {},
   "source": [
    "From the evaluation results of the ANN and KNN, we can see that the KNN model has better accuracy than the ANN model.\n",
    "\n",
    "Also, we can see in the confusion matrices that in KNN more no. of predictions are on diagonal than in the ANN model, which means that the KNN model is better at predicting the classes because diagonal elements in the confusion matrix represent the correct predictions.\n",
    "\n",
    "But, this doesn't mean that ANN technique is bad for solving this problem. It's just that the ANN model and architecture which we have defined didn't worked well here. We can fine tune the ANN model and architecture to get better results."
   ]
  }
 ],
 "metadata": {
  "kernelspec": {
   "display_name": "Python 3",
   "language": "python",
   "name": "python3"
  },
  "language_info": {
   "codemirror_mode": {
    "name": "ipython",
    "version": 3
   },
   "file_extension": ".py",
   "mimetype": "text/x-python",
   "name": "python",
   "nbconvert_exporter": "python",
   "pygments_lexer": "ipython3",
   "version": "3.11.2"
  },
  "orig_nbformat": 4
 },
 "nbformat": 4,
 "nbformat_minor": 2
}
